{
 "cells": [
  {
   "cell_type": "markdown",
   "id": "6a8d9d01",
   "metadata": {},
   "source": [
    "# **Unidad 4: Introducción a Colecciones en Java**.\n",
    "\n",
    "- Teoría\n",
    "- Ejemplos prácticos\n",
    "- Comparaciones entre estructuras\n",
    "- Buenas prácticas (normas internacionales de código seguro, calidad de código, evitar variables globales, comentar el código, entre otros)\n",
    "\n",
    "---\n"
   ]
  },
  {
   "cell_type": "markdown",
   "id": "7e768c8d",
   "metadata": {},
   "source": [
    "### 🧩 **Título de la clase:**  \n",
    "**Introducción al Framework de Colecciones en Java: List, Set y Map**\n",
    "\n",
    "### ⏱️ **Duración:** 2 horas\n",
    "\n",
    "---\n"
   ]
  },
  {
   "cell_type": "markdown",
   "id": "0191d789",
   "metadata": {},
   "source": [
    "## ✅ **Objetivos de aprendizaje**\n",
    "Al finalizar esta clase, el estudiante podrá:\n",
    "\n",
    "- Comprender el propósito del framework de colecciones.\n",
    "- Usar correctamente las interfaces `List`, `Set`, y `Map` y sus implementaciones.\n",
    "- Aplicar métodos fundamentales de las colecciones.\n",
    "- Elegir la estructura adecuada según el contexto (orden, duplicados, acceso por clave).\n",
    "- Iterar de forma segura sobre colecciones con bucles clásicos y `for-each`.\n",
    "- Aplicar buenas prácticas y normas internacionales de programación segura.\n",
    "\n",
    "---\n"
   ]
  },
  {
   "cell_type": "markdown",
   "id": "65a4cd59",
   "metadata": {},
   "source": [
    "## 🧠 **Estructura de la clase (2 horas)**\n",
    "\n",
    "| Tiempo | Tema |\n",
    "|--------|------|\n",
    "| 0:00 – 0:10 | Introducción a las colecciones |\n",
    "| 0:10 – 0:25 | Interfaces `List`, `Set`, `Map`: diferencias y propósitos |\n",
    "| 0:25 – 0:50 | Implementaciones y ejemplos: `ArrayList`, `LinkedList`, `HashSet`, `TreeSet`, `HashMap`, `TreeMap` |\n",
    "| 0:50 – 1:10 | Métodos fundamentales (`add`, `remove`, `get`, `contains`, `clear`, `isEmpty`) |\n",
    "| 1:10 – 1:25 | Comparaciones entre estructuras: orden, duplicados, acceso |\n",
    "| 1:25 – 1:45 | Iteración: bucle clásico vs `for-each` |\n",
    "| 1:45 – 2:00 | Buenas prácticas, preguntas y cierre |\n",
    "\n",
    "---\n"
   ]
  },
  {
   "cell_type": "markdown",
   "id": "daed3aa7",
   "metadata": {},
   "source": [
    "## 📘 **Contenido detallado**\n",
    "\n",
    "### 🧩 1. Introducción al Framework de Colecciones\n",
    "\n",
    "### 📌 ¿Qué es una colección?\n",
    "\n",
    "Una **colección** en Java es un **objeto** que **agrupa múltiples elementos** en una sola unidad. Estas estructuras permiten almacenar, acceder, modificar y eliminar datos de manera eficiente.\n",
    "\n",
    "🔹 Las colecciones son utilizadas para representar **grupos de objetos**, por ejemplo:\n",
    "- Una lista de estudiantes,\n",
    "- Un conjunto de productos únicos,\n",
    "- Un mapa que relaciona claves con valores (como un diccionario).\n",
    "\n",
    "Java provee una arquitectura robusta y flexible para manejar colecciones de datos a través del **Framework de Colecciones**.\n",
    "\n",
    "---\n",
    "\n",
    "### 📌 ¿Por qué se necesita si ya existen arrays?\n",
    "\n",
    "Aunque **los arrays** (`int[]`, `String[]`, etc.) son una estructura fundamental en Java, presentan varias **limitaciones** que hacen necesario un enfoque más avanzado:\n",
    "\n",
    "| Arrays | Colecciones |\n",
    "|--------|-------------|\n",
    "| Tamaño fijo una vez creado. | Tamaño dinámico. Se puede crecer o reducir. |\n",
    "| Soporta solo operaciones básicas (lectura, escritura). | Ofrece métodos avanzados: ordenamiento, búsqueda, eliminación, etc. |\n",
    "| No hay garantía de comportamiento ordenado o único. | Ofrece estructuras especializadas: `List`, `Set`, `Map`, etc. |\n",
    "| Acceso secuencial. | Acceso por clave (`Map`), ordenado (`TreeSet`), etc. |\n",
    "| No es flexible ni extensible. | Basado en interfaces que permiten múltiples implementaciones. |\n",
    "\n",
    "🧠 **Conclusión**: El **Framework de Colecciones** supera las limitaciones de los arrays al proporcionar estructuras de datos más potentes, flexibles y orientadas a objetos.\n",
    "\n",
    "---\n",
    "\n",
    "### 📌 Jerarquía de interfaces principales\n",
    "\n",
    "El **Java Collections Framework (JCF)** está basado en una arquitectura jerárquica que facilita la extensión y el uso consistente de estructuras de datos.\n",
    "\n",
    "#### 🧭 Interfaces clave:\n",
    "\n",
    "```\n",
    "              Iterable\n",
    "                  │\n",
    "              Collection\n",
    "          ┌────────┴────────┐\n",
    "         List             Set\n",
    "                            │\n",
    "                         SortedSet\n",
    "                            │\n",
    "                         NavigableSet\n",
    "```\n",
    "\n",
    "```\n",
    "                  Map\n",
    "          ┌────────┴────────┐\n",
    "       SortedMap       NavigableMap\n",
    "```\n",
    "\n",
    "#### 🔍 Descripción de interfaces:\n",
    "\n",
    "| Interface | Descripción |\n",
    "|----------|-------------|\n",
    "| `Iterable` | Permite recorrer los elementos con `for-each`. Es la raíz del sistema de iteración. |\n",
    "| `Collection` | Interface base de todas las colecciones (excepto `Map`). Define operaciones básicas: `add`, `remove`, `size`, etc. |\n",
    "| `List` | Colección ordenada, permite elementos duplicados. Implementaciones: `ArrayList`, `LinkedList`. |\n",
    "| `Set` | Colección que **no permite duplicados**. Implementaciones: `HashSet`, `LinkedHashSet`. |\n",
    "| `SortedSet` | `Set` ordenado automáticamente. Implementación: `TreeSet`. |\n",
    "| `NavigableSet` | Extiende `SortedSet` con operaciones de navegación como `lower()`, `higher()`. |\n",
    "| `Map` | Estructura de pares clave-valor. Implementaciones: `HashMap`, `TreeMap`. |\n",
    "| `SortedMap` / `NavigableMap` | Versiones ordenadas y navegables de `Map`. |\n",
    "\n",
    "🎓 **Ejemplo visual de jerarquía simplificada**:\n",
    "\n",
    "```\n",
    "Iterable\n",
    "  └── Collection\n",
    "        ├── List (ArrayList, LinkedList)\n",
    "        ├── Set (HashSet)\n",
    "        │     └── SortedSet (TreeSet)\n",
    "        │            └── NavigableSet\n",
    "        └── Queue (PriorityQueue)\n",
    "\n",
    "Map (HashMap, TreeMap)\n",
    "  └── SortedMap\n",
    "        └── NavigableMap\n",
    "```\n",
    "\n",
    "---\n"
   ]
  },
  {
   "cell_type": "markdown",
   "id": "9949fe3c",
   "metadata": {},
   "source": [
    "### 🧩 2. Interfaces principales: `List`, `Set`, `Map`\n",
    "\n",
    "#### 🔸 List\n",
    "- Permite elementos duplicados\n",
    "- Mantiene el orden de inserción\n",
    "\n",
    "#### 🔸 Set\n",
    "- No permite duplicados\n",
    "- No garantiza orden (excepto TreeSet)\n",
    "\n",
    "#### 🔸 Map\n",
    "- Estructura clave-valor\n",
    "- No permite claves duplicadas\n"
   ]
  },
  {
   "cell_type": "code",
   "execution_count": null,
   "id": "abd362c4",
   "metadata": {},
   "outputs": [],
   "source": [
    "List<String> nombres = new ArrayList<>();\n",
    "Set<Integer> edades = new HashSet<>();\n",
    "Map<Integer, String> empleados = new HashMap<>();\n"
   ]
  },
  {
   "cell_type": "markdown",
   "id": "ecd6cd77",
   "metadata": {},
   "source": [
    "---\n",
    "\n",
    "### 🧩 3. Implementaciones más comunes\n",
    "\n",
    "#### 🔹 `ArrayList` vs `LinkedList`\n"
   ]
  },
  {
   "cell_type": "code",
   "execution_count": null,
   "id": "f06c0d2e",
   "metadata": {},
   "outputs": [],
   "source": [
    "// ArrayList: acceso rápido, inserciones/remociones más costosas\n",
    "List<String> lista = new ArrayList<>();\n",
    "\n",
    "// LinkedList: inserciones/remociones rápidas, acceso más lento\n",
    "List<String> lista2 = new LinkedList<>();\n"
   ]
  },
  {
   "cell_type": "markdown",
   "id": "b77bfb3d",
   "metadata": {},
   "source": [
    "#### 🔹 `HashSet` vs `TreeSet`"
   ]
  },
  {
   "cell_type": "code",
   "execution_count": null,
   "id": "5f9d1dfa",
   "metadata": {},
   "outputs": [],
   "source": [
    "Set<String> set1 = new HashSet<>();  // Sin orden\n",
    "Set<String> set2 = new TreeSet<>();  // Orden natural\n"
   ]
  },
  {
   "cell_type": "markdown",
   "id": "c311c9a9",
   "metadata": {},
   "source": [
    "#### 🔹 `HashMap` vs `TreeMap`"
   ]
  },
  {
   "cell_type": "code",
   "execution_count": null,
   "id": "8a0c26d1",
   "metadata": {},
   "outputs": [],
   "source": [
    "Map<Integer, String> mapa1 = new HashMap<>();  // Rápido, sin orden\n",
    "Map<Integer, String> mapa2 = new TreeMap<>();  // Ordenado por clave\n"
   ]
  },
  {
   "cell_type": "markdown",
   "id": "1783cf43",
   "metadata": {},
   "source": [
    "---\n",
    "\n",
    "### 🧩 4. Métodos fundamentales\n"
   ]
  },
  {
   "cell_type": "code",
   "execution_count": null,
   "id": "cf3c3ef2",
   "metadata": {},
   "outputs": [],
   "source": [
    "List<String> nombres = new ArrayList<>();\n",
    "nombres.add(\"Juan\");           // Agrega elemento\n",
    "nombres.remove(\"Juan\");        // Elimina\n",
    "nombres.get(0);                // Obtiene por índice\n",
    "nombres.contains(\"Ana\");       // Verifica existencia\n",
    "nombres.clear();               // Limpia la lista\n",
    "nombres.isEmpty();             // Verifica si está vacía\n"
   ]
  },
  {
   "cell_type": "markdown",
   "id": "4bdf1063",
   "metadata": {},
   "source": [
    "🛡️ **Buenas prácticas:**\n",
    "- Evitar excepciones como `IndexOutOfBoundsException`\n",
    "- Validar entradas del usuario\n",
    "\n",
    "---\n"
   ]
  },
  {
   "cell_type": "markdown",
   "id": "9f1d920a",
   "metadata": {},
   "source": [
    "### 🧩 5. Comparación entre estructuras\n",
    "\n",
    "| Estructura | Orden | Duplicados | Acceso por clave |\n",
    "|-----------|-------|------------|------------------|\n",
    "| List      | Sí    | Sí         | No               |\n",
    "| Set       | Depende | No       | No               |\n",
    "| Map       | Por clave | Solo claves únicas | Sí         |\n",
    "\n",
    "---\n"
   ]
  },
  {
   "cell_type": "markdown",
   "id": "b168ca24",
   "metadata": {},
   "source": [
    "### 🧩 6. Iteración segura"
   ]
  },
  {
   "cell_type": "code",
   "execution_count": null,
   "id": "a26b62fb",
   "metadata": {},
   "outputs": [],
   "source": [
    "// for clásico\n",
    "for (int i = 0; i < nombres.size(); i++) {\n",
    "    System.out.println(nombres.get(i));\n",
    "}\n",
    "\n",
    "// for-each\n",
    "for (String nombre : nombres) {\n",
    "    System.out.println(nombre);\n",
    "}\n"
   ]
  },
  {
   "cell_type": "markdown",
   "id": "462bee1f",
   "metadata": {},
   "source": [
    "⚠️ **Evita modificar la colección dentro del `for-each`** (puede lanzar `ConcurrentModificationException`).\n",
    "\n",
    "---\n"
   ]
  },
  {
   "cell_type": "markdown",
   "id": "2a103e3f",
   "metadata": {},
   "source": [
    "### 🧩 7. Buenas prácticas y normas internacionales\n",
    "\n",
    "- ✅ **Evita variables globales**\n",
    "- ✅ **Comenta el código**\n",
    "- ✅ **Utiliza nombres significativos**\n",
    "- ✅ **Evita modificar colecciones durante la iteración**\n",
    "- ✅ **Aplica principios SOLID y DRY**\n",
    "- ✅ **Código seguro: valida datos antes de operar**\n"
   ]
  },
  {
   "cell_type": "code",
   "execution_count": null,
   "id": "a49a2fe0",
   "metadata": {},
   "outputs": [],
   "source": [
    "// ✅ Validación antes de operar\n",
    "if (nombres != null && !nombres.isEmpty()) {\n",
    "    System.out.println(nombres.get(0));\n",
    "}\n"
   ]
  },
  {
   "cell_type": "markdown",
   "id": "f7816a98",
   "metadata": {},
   "source": [
    "---\n",
    "\n",
    "## 🧪 **Ejercicio práctico para clase 1**\n",
    "\n",
    "App que permite desarrollar todos los contenidos. Una vez finalizado integrarle con AI:\n",
    "- Modular por capas\n",
    "- Integrar interfaz grafica con swing\n",
    "- Refactorizar\n",
    "- Documentar con javadoc\n",
    "\n",
    "\n",
    "Solución inicial:"
   ]
  },
  {
   "cell_type": "code",
   "execution_count": null,
   "id": "ea926233",
   "metadata": {},
   "outputs": [],
   "source": [
    "// Declaración del paquete que agrupa las clases relacionadas\n",
    "package com.example;\n",
    "\n",
    "// Importación de todas las colecciones necesarias como List, Set, Map, etc.\n",
    "import java.util.*;\n",
    "\n",
    "// Importación del sistema de logging para registrar eventos o errores\n",
    "import java.util.logging.*;\n",
    "\n",
    "// Clase principal que contiene el método main y métodos auxiliares\n",
    "public class App {\n",
    "\n",
    "    // Creación de un logger para registrar información, advertencias y errores\n",
    "    private static final Logger logger = Logger.getLogger(App.class.getName());\n",
    "\n",
    "    // Método principal que se ejecuta al correr el programa\n",
    "    public static void main(String[] args) {\n",
    "\n",
    "        // Configura el nivel del logger para mostrar mensajes de nivel INFO en adelante\n",
    "        logger.setLevel(Level.INFO);\n",
    "\n",
    "        // Declaración e inicialización de un Set de enteros (no permite duplicados)\n",
    "        Set<Integer> edades = new HashSet<>(Arrays.asList(25, 30, 25));\n",
    "        // Se imprime el contenido del Set\n",
    "        imprimirSet(\"Edades\", edades);\n",
    "\n",
    "        // Declaración e inicialización de un Map que asocia IDs con nombres\n",
    "        Map<Integer, String> empleados = new HashMap<>();\n",
    "        empleados.put(1, \"Ana\");     // Se añade el par clave-valor (1, \"Ana\")\n",
    "        empleados.put(2, \"Luis\");    // Se añade el par clave-valor (2, \"Luis\")\n",
    "        empleados.put(3, \"Carlos\");  // Se añade el par clave-valor (3, \"Carlos\")\n",
    "        imprimirMapa(\"Empleados\", empleados); // Se imprime el mapa\n",
    "\n",
    "        // Declaración e inicialización de una lista de días de la semana\n",
    "        List<String> dias = new ArrayList<>(Arrays.asList(\"Lunes\", \"Martes\", \"Miércoles\"));\n",
    "        imprimirLista(\"Días\", dias);  // Se imprime la lista\n",
    "\n",
    "        // Accede a un elemento válido en la lista (índice 2)\n",
    "        accederElementoLista(dias, 2);\n",
    "        // Intenta acceder a un índice fuera del rango para probar validación\n",
    "        accederElementoLista(dias, 5);\n",
    "\n",
    "        // Declaración de una lista enlazada (LinkedList)\n",
    "        List<String> lista2 = new LinkedList<>(Arrays.asList(\"Uno\", \"Dos\", \"Tres\"));\n",
    "\n",
    "        // Elimina un elemento en posición válida (índice 1)\n",
    "        removerElemento(lista2, 1);\n",
    "        // Intenta acceder a un índice fuera de rango\n",
    "        accederElementoLista(lista2, 10);\n",
    "        // Imprime el estado actual de la lista2\n",
    "        imprimirLista(\"Lista2\", lista2);\n",
    "\n",
    "        // Declaración de un HashSet con nombres de frutas (sin orden garantizado)\n",
    "        Set<String> frutasHash = new HashSet<>(Arrays.asList(\"Manzana\", \"Banana\", \"Pera\"));\n",
    "        imprimirSet(\"Frutas (HashSet)\", frutasHash);\n",
    "\n",
    "        // Declaración de un TreeSet que ordena automáticamente los elementos\n",
    "        Set<String> frutasTree = new TreeSet<>(Arrays.asList(\"Manzana\", \"Banana\", \"Pera\"));\n",
    "        imprimirSet(\"Frutas (TreeSet)\", frutasTree);\n",
    "\n",
    "        // Declaración de un HashMap (sin orden de claves)\n",
    "        Map<Integer, String> mapa1 = new HashMap<>();\n",
    "        mapa1.put(3, \"Tres\");\n",
    "        mapa1.put(1, \"Uno\");\n",
    "        mapa1.put(2, \"Dos\");\n",
    "        imprimirMapa(\"Mapa1 (HashMap)\", mapa1);\n",
    "\n",
    "        // Declaración de un TreeMap (las claves se ordenan automáticamente)\n",
    "        Map<Integer, String> mapa2 = new TreeMap<>();\n",
    "        mapa2.put(3, \"Tres\");\n",
    "        mapa2.put(1, \"Uno\");\n",
    "        mapa2.put(2, \"Dos\");\n",
    "        imprimirMapa(\"Mapa2 (TreeMap)\", mapa2);\n",
    "    }\n",
    "\n",
    "    // Método genérico para imprimir cualquier tipo de Set (evita duplicar código)\n",
    "    private static <T> void imprimirSet(String nombre, Set<T> conjunto) {\n",
    "        logger.info(\"Imprimiendo conjunto: \" + nombre);  // Mensaje de logging\n",
    "        for (T elemento : conjunto) {\n",
    "            System.out.println(nombre + \" -> \" + elemento);  // Muestra cada elemento\n",
    "        }\n",
    "    }\n",
    "\n",
    "    // Método genérico para imprimir cualquier tipo de List\n",
    "    private static <T> void imprimirLista(String nombre, List<T> lista) {\n",
    "        logger.info(\"Imprimiendo lista: \" + nombre);  // Mensaje de logging\n",
    "        for (T elemento : lista) {\n",
    "            System.out.println(nombre + \" -> \" + elemento);  // Muestra cada elemento\n",
    "        }\n",
    "    }\n",
    "\n",
    "    // Método genérico para imprimir cualquier tipo de Map\n",
    "    private static <K, V> void imprimirMapa(String nombre, Map<K, V> mapa) {\n",
    "        logger.info(\"Imprimiendo mapa: \" + nombre);  // Mensaje de logging\n",
    "        for (Map.Entry<K, V> entry : mapa.entrySet()) {\n",
    "            // Muestra cada entrada clave-valor\n",
    "            System.out.println(nombre + \" -> Clave: \" + entry.getKey() + \", Valor: \" + entry.getValue());\n",
    "        }\n",
    "    }\n",
    "\n",
    "    // Método para acceder a un índice de una lista, validando que esté dentro del rango\n",
    "    private static <T> void accederElementoLista(List<T> lista, int indice) {\n",
    "        if (indice >= 0 && indice < lista.size()) {\n",
    "            // Si el índice es válido, se accede e imprime el valor\n",
    "            System.out.println(\"Elemento en índice \" + indice + \": \" + lista.get(indice));\n",
    "        } else {\n",
    "            // Si el índice es inválido, se muestra advertencia en el log\n",
    "            logger.warning(\"Índice fuera de rango: \" + indice + \" (Tamaño: \" + lista.size() + \")\");\n",
    "        }\n",
    "    }\n",
    "\n",
    "    // Método para eliminar un elemento de una lista en una posición válida\n",
    "    private static <T> void removerElemento(List<T> lista, int indice) {\n",
    "        if (indice >= 0 && indice < lista.size()) {\n",
    "            // Elimina e informa el elemento eliminado\n",
    "            T eliminado = lista.remove(indice);\n",
    "            logger.info(\"Elemento eliminado: \" + eliminado);\n",
    "        } else {\n",
    "            // Si el índice es inválido, se registra una advertencia\n",
    "            logger.warning(\"No se puede eliminar. Índice fuera de rango: \" + indice);\n",
    "        }\n",
    "    }\n",
    "}\n"
   ]
  },
  {
   "cell_type": "markdown",
   "id": "9ad82225",
   "metadata": {},
   "source": [
    "---\n",
    "\n",
    "## 🧪 **Ejercicio práctico para clase 2**\n",
    "\n",
    "Crear un sistema de gestión de inventario con ArrayList y HashMap, con operaciones\n",
    "CRUD básicas en consola"
   ]
  },
  {
   "cell_type": "markdown",
   "id": "1e30472d",
   "metadata": {},
   "source": [
    "---\n",
    "\n",
    "## 🧪 **Ejercicio práctico para clase 3**\n",
    "\n",
    "Crea un CRUD simple para registrar productos (con al menos 4 atributos) en una tienda:\n",
    "\n",
    "- Usa `List` para guardar productos\n",
    "- Usa `Set` para eliminar productos duplicados\n",
    "- Usa `Map<Integer, String>` para almacenar productos por código\n",
    "- Itera con `for-each` y muestra contenido ordenado\n",
    "- \n",
    "\n",
    "---"
   ]
  },
  {
   "cell_type": "markdown",
   "id": "61d6e57d",
   "metadata": {},
   "source": [
    "🔧 Prompt para Cursor AI: **Revisar Documentos de word**"
   ]
  },
  {
   "cell_type": "markdown",
   "id": "2646c698",
   "metadata": {},
   "source": [
    "## 📌 **Tarea sugerida**\n",
    "\n",
    "> Crea un CRUD simple acerca de un sistema para una biblioteca donde:\n",
    "- Guardes libros en un `ArrayList`\n",
    "- Evites duplicados con `HashSet`\n",
    "- Asocies códigos únicos de libros con títulos usando `HashMap`\n",
    "- Iteres e imprimas los libros disponibles\n",
    "\n",
    "---\n"
   ]
  }
 ],
 "metadata": {
  "language_info": {
   "name": "python"
  }
 },
 "nbformat": 4,
 "nbformat_minor": 5
}
