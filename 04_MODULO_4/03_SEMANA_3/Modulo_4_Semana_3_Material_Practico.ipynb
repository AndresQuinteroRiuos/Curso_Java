{
 "cells": [
  {
   "cell_type": "markdown",
   "id": "af154f4c",
   "metadata": {},
   "source": [
    "## Material práctico: Streams Avanzados en Java\n",
    "\n",
    "### Parte 1: Ejercicios Resueltos Durante la Clase\n",
    "\n",
    "#### Ejercicio 1: Filtrar y transformar productos\n",
    "\n"
   ]
  },
  {
   "cell_type": "code",
   "execution_count": null,
   "id": "ad6a1d0e",
   "metadata": {},
   "outputs": [],
   "source": [
    "List<String> productosFiltrados = productos.stream()\n",
    "    .filter(p -> p.getPrecio() > 100)\n",
    "    .map(p -> p.getNombre().toUpperCase())\n",
    "    .sorted(Comparator.reverseOrder())\n",
    "    .collect(Collectors.toList());\n"
   ]
  },
  {
   "cell_type": "markdown",
   "id": "39cf3c11",
   "metadata": {},
   "source": [
    "**Resultado esperado:** Lista de nombres de productos con precio > 100, en mayúsculas y orden descendente."
   ]
  },
  {
   "cell_type": "markdown",
   "id": "8d61ba5c",
   "metadata": {},
   "source": [
    "#### Ejercicio 2: Agrupación por categoría"
   ]
  },
  {
   "cell_type": "code",
   "execution_count": null,
   "id": "a80ee877",
   "metadata": {},
   "outputs": [],
   "source": [
    "Map<String, List<Venta>> porCategoria = ventas.stream()\n",
    "    .collect(Collectors.groupingBy(Venta::getCategoria));\n"
   ]
  },
  {
   "cell_type": "markdown",
   "id": "eb6c744b",
   "metadata": {},
   "source": [
    "**Resultado esperado:** Mapa con categorías como clave y lista de ventas por categoría."
   ]
  },
  {
   "cell_type": "markdown",
   "id": "e0fa99c9",
   "metadata": {},
   "source": [
    "#### Ejercicio 3: Estadísticas por cliente\n",
    "\n"
   ]
  },
  {
   "cell_type": "code",
   "execution_count": null,
   "id": "07ca92ca",
   "metadata": {},
   "outputs": [],
   "source": [
    "Map<String, DoubleSummaryStatistics> statsPorCliente = ventas.stream()\n",
    "    .collect(Collectors.groupingBy(Venta::getCliente,\n",
    "        Collectors.summarizingDouble(Venta::getTotal)));\n"
   ]
  },
  {
   "cell_type": "markdown",
   "id": "7e20f791",
   "metadata": {},
   "source": [
    "**Resultado esperado:** Mapa con resumen estadístico de ventas por cliente.\n",
    "\n",
    "---\n"
   ]
  },
  {
   "cell_type": "markdown",
   "id": "c42b2cf0",
   "metadata": {},
   "source": [
    "### Parte 2: Contenido Teórico con Ejemplos y Recursos\n",
    "\n",
    "#### 1. Diagrama de un Pipeline de Streams\n",
    "\n",
    "```\n",
    "+------------+    +-----------+    +-----------+    +-------------+\n",
    "| Collection | -> |  filter() | -> |   map()   | -> | collect()   |\n",
    "+------------+    +-----------+    +-----------+    +-------------+\n",
    "```\n",
    "\n",
    "**Explicación:** Cada paso transforma los datos progresivamente. Los `Streams` son inmutables.\n",
    "\n",
    "#### 2. Comparativa entre stream() y parallelStream()\n",
    "\n",
    "| stream()        | parallelStream()         |\n",
    "| --------------- | ------------------------ |\n",
    "| Secuencial      | Paralelo                 |\n",
    "| Menos eficiente | Más eficiente (en casos) |\n",
    "| Más predecible  | Más complejo de depurar  |\n",
    "\n",
    "#### 3. Recursos de Apoyo\n",
    "\n",
    "* [Java Stream API - Oracle](https://docs.oracle.com/javase/8/docs/api/java/util/stream/package-summary.html)\n",
    "* [Baeldung: Java Collectors](https://www.baeldung.com/java-8-collectors)\n",
    "* [Java Visualizer](http://www.cs.princeton.edu/~cos126/java_visualize/)\n",
    "\n",
    "---\n"
   ]
  },
  {
   "cell_type": "markdown",
   "id": "a5abca0e",
   "metadata": {},
   "source": [
    "## Parte 3: Bloque de Ejercicios con Dificultad Progresiva\n",
    "\n",
    "---\n",
    "\n",
    "### Nivel 1 (Básico)\n",
    "\n",
    "**Ejercicio:**\n",
    "Dado un `List<String>`, filtrar nombres que empiecen con \"A\" y convertirlos a minúsculas.\n",
    "\n",
    "**Código:**\n"
   ]
  },
  {
   "cell_type": "code",
   "execution_count": null,
   "id": "4f941952",
   "metadata": {},
   "outputs": [],
   "source": [
    "import java.util.*;\n",
    "import java.util.stream.*;\n",
    "\n",
    "public class EjercicioNivel1 {\n",
    "    public static void main(String[] args) {\n",
    "        List<String> nombres = List.of(\"Ana\", \"Pedro\", \"Alberto\", \"Maria\", \"Andrés\");\n",
    "\n",
    "        List<String> resultado = nombres.stream()\n",
    "            .filter(nombre -> nombre.startsWith(\"A\"))\n",
    "            .map(String::toLowerCase)\n",
    "            .collect(Collectors.toList());\n",
    "\n",
    "        System.out.println(\"Resultado: \" + resultado);\n",
    "    }\n",
    "}\n"
   ]
  },
  {
   "cell_type": "markdown",
   "id": "0e3a8340",
   "metadata": {},
   "source": [
    "**Resultado esperado:**\n",
    "`[ana, alberto, andrés]`\n",
    "\n",
    "---\n"
   ]
  },
  {
   "cell_type": "markdown",
   "id": "b8866110",
   "metadata": {},
   "source": [
    "### Nivel 2 (Intermedio)\n",
    "\n",
    "**Ejercicio:**\n",
    "Dado un `List<Venta>`, agrupar por producto y contar el total de unidades vendidas.\n",
    "\n",
    "**Clase `Venta`:**\n"
   ]
  },
  {
   "cell_type": "code",
   "execution_count": null,
   "id": "f5441fa7",
   "metadata": {},
   "outputs": [],
   "source": [
    "public class Venta {\n",
    "    private String producto;\n",
    "    private int cantidad;\n",
    "\n",
    "    public Venta(String producto, int cantidad) {\n",
    "        this.producto = producto;\n",
    "        this.cantidad = cantidad;\n",
    "    }\n",
    "\n",
    "    public String getProducto() {\n",
    "        return producto;\n",
    "    }\n",
    "\n",
    "    public int getCantidad() {\n",
    "        return cantidad;\n",
    "    }\n",
    "}\n"
   ]
  },
  {
   "cell_type": "markdown",
   "id": "bfeb9b68",
   "metadata": {},
   "source": [
    "**Código de solución:**"
   ]
  },
  {
   "cell_type": "code",
   "execution_count": null,
   "id": "b72a5942",
   "metadata": {},
   "outputs": [],
   "source": [
    "import java.util.*;\n",
    "import java.util.stream.*;\n",
    "\n",
    "public class EjercicioNivel2 {\n",
    "    public static void main(String[] args) {\n",
    "        List<Venta> ventas = List.of(\n",
    "            new Venta(\"Teclado\", 3),\n",
    "            new Venta(\"Mouse\", 5),\n",
    "            new Venta(\"Teclado\", 2),\n",
    "            new Venta(\"Pantalla\", 1),\n",
    "            new Venta(\"Mouse\", 4)\n",
    "        );\n",
    "\n",
    "        Map<String, Integer> totalPorProducto = ventas.stream()\n",
    "            .collect(Collectors.groupingBy(\n",
    "                Venta::getProducto,\n",
    "                Collectors.summingInt(Venta::getCantidad)\n",
    "            ));\n",
    "\n",
    "        totalPorProducto.forEach((producto, total) -> \n",
    "            System.out.println(producto + \": \" + total + \" unidades\")\n",
    "        );\n",
    "    }\n",
    "}\n"
   ]
  },
  {
   "cell_type": "markdown",
   "id": "d3556795",
   "metadata": {},
   "source": [
    "**Resultado esperado:**\n",
    "\n",
    "```\n",
    "Teclado: 5 unidades  \n",
    "Mouse: 9 unidades  \n",
    "Pantalla: 1 unidades\n",
    "```\n",
    "\n",
    "---\n"
   ]
  },
  {
   "cell_type": "markdown",
   "id": "3acb4a26",
   "metadata": {},
   "source": [
    "### Nivel 3 (Avanzado)\n",
    "\n",
    "**Ejercicio:**\n",
    "Obtener el cliente con mayor número de compras y el producto más vendido (por ingresos).\n",
    "\n",
    "**Clase `VentaAvanzada`:**\n",
    "\n"
   ]
  },
  {
   "cell_type": "code",
   "execution_count": null,
   "id": "6feb4509",
   "metadata": {},
   "outputs": [],
   "source": [
    "public class VentaAvanzada {\n",
    "    private String cliente;\n",
    "    private String producto;\n",
    "    private int cantidad;\n",
    "    private double precioUnitario;\n",
    "\n",
    "    public VentaAvanzada(String cliente, String producto, int cantidad, double precioUnitario) {\n",
    "        this.cliente = cliente;\n",
    "        this.producto = producto;\n",
    "        this.cantidad = cantidad;\n",
    "        this.precioUnitario = precioUnitario;\n",
    "    }\n",
    "\n",
    "    public String getCliente() {\n",
    "        return cliente;\n",
    "    }\n",
    "\n",
    "    public String getProducto() {\n",
    "        return producto;\n",
    "    }\n",
    "\n",
    "    public int getCantidad() {\n",
    "        return cantidad;\n",
    "    }\n",
    "\n",
    "    public double getPrecioUnitario() {\n",
    "        return precioUnitario;\n",
    "    }\n",
    "\n",
    "    public double getTotal() {\n",
    "        return cantidad * precioUnitario;\n",
    "    }\n",
    "}\n"
   ]
  },
  {
   "cell_type": "markdown",
   "id": "91deac5f",
   "metadata": {},
   "source": [
    "**Código de solución:**"
   ]
  },
  {
   "cell_type": "code",
   "execution_count": null,
   "id": "0f38b9f7",
   "metadata": {},
   "outputs": [],
   "source": [
    "import java.util.*;\n",
    "import java.util.stream.*;\n",
    "\n",
    "public class EjercicioNivel3 {\n",
    "    public static void main(String[] args) {\n",
    "        List<VentaAvanzada> ventas = List.of(\n",
    "            new VentaAvanzada(\"Laura\", \"Teclado\", 3, 50),\n",
    "            new VentaAvanzada(\"Laura\", \"Mouse\", 2, 25),\n",
    "            new VentaAvanzada(\"Carlos\", \"Teclado\", 1, 50),\n",
    "            new VentaAvanzada(\"Carlos\", \"Pantalla\", 1, 200),\n",
    "            new VentaAvanzada(\"Laura\", \"Pantalla\", 1, 200)\n",
    "        );\n",
    "\n",
    "        // Cliente con más compras (por cantidad)\n",
    "        String mejorCliente = ventas.stream()\n",
    "            .collect(Collectors.groupingBy(VentaAvanzada::getCliente,\n",
    "                Collectors.summingInt(VentaAvanzada::getCantidad)))\n",
    "            .entrySet().stream()\n",
    "            .max(Map.Entry.comparingByValue())\n",
    "            .map(Map.Entry::getKey)\n",
    "            .orElse(\"Ninguno\");\n",
    "\n",
    "        // Producto más vendido por ingresos\n",
    "        String productoMasRentable = ventas.stream()\n",
    "            .collect(Collectors.groupingBy(VentaAvanzada::getProducto,\n",
    "                Collectors.summingDouble(VentaAvanzada::getTotal)))\n",
    "            .entrySet().stream()\n",
    "            .max(Map.Entry.comparingByValue())\n",
    "            .map(Map.Entry::getKey)\n",
    "            .orElse(\"Ninguno\");\n",
    "\n",
    "        System.out.println(\"Cliente con más compras: \" + mejorCliente);\n",
    "        System.out.println(\"Producto más vendido por ingresos: \" + productoMasRentable);\n",
    "    }\n",
    "}\n"
   ]
  },
  {
   "cell_type": "markdown",
   "id": "67375c8c",
   "metadata": {},
   "source": [
    "---\n",
    "\n",
    "### Nivel 4 (Complejo - Integrador)\n",
    "\n",
    "**Ejercicio:**\n",
    "Dado un archivo JSON con ventas, cargarlo, procesar estadísticas y exportar resultados a un nuevo archivo.\n",
    "\n",
    "**Supuesto JSON (ventas.json):**\n"
   ]
  },
  {
   "cell_type": "code",
   "execution_count": null,
   "id": "6aca1fbf",
   "metadata": {},
   "outputs": [],
   "source": [
    "[\n",
    "    {\"cliente\": \"Ana\", \"producto\": \"Laptop\", \"cantidad\": 1, \"precioUnitario\": 3000},\n",
    "    {\"cliente\": \"Pedro\", \"producto\": \"Laptop\", \"cantidad\": 2, \"precioUnitario\": 2800},\n",
    "    {\"cliente\": \"Ana\", \"producto\": \"Mouse\", \"cantidad\": 3, \"precioUnitario\": 25}\n",
    "]\n"
   ]
  },
  {
   "cell_type": "markdown",
   "id": "eb4eb39a",
   "metadata": {},
   "source": [
    "**Librerías necesarias:**\n",
    "\n",
    "* [Jackson](https://github.com/FasterXML/jackson): `ObjectMapper`\n",
    "\n",
    "**Código (resumen):**\n"
   ]
  },
  {
   "cell_type": "code",
   "execution_count": null,
   "id": "d576c81d",
   "metadata": {},
   "outputs": [],
   "source": [
    "import com.fasterxml.jackson.core.type.TypeReference;\n",
    "import com.fasterxml.jackson.databind.ObjectMapper;\n",
    "import java.io.*;\n",
    "import java.util.*;\n",
    "import java.util.stream.*;\n",
    "\n",
    "public class EjercicioNivel4 {\n",
    "    public static void main(String[] args) throws IOException {\n",
    "        ObjectMapper mapper = new ObjectMapper();\n",
    "\n",
    "        List<VentaAvanzada> ventas = mapper.readValue(\n",
    "            new File(\"ventas.json\"),\n",
    "            new TypeReference<List<VentaAvanzada>>() {}\n",
    "        );\n",
    "\n",
    "        Map<String, Double> totalPorProducto = ventas.stream()\n",
    "            .collect(Collectors.groupingBy(\n",
    "                VentaAvanzada::getProducto,\n",
    "                Collectors.summingDouble(VentaAvanzada::getTotal)\n",
    "            ));\n",
    "\n",
    "        mapper.writeValue(new File(\"resumen_productos.json\"), totalPorProducto);\n",
    "\n",
    "        System.out.println(\"¡Archivo resumen_productos.json creado!\");\n",
    "    }\n",
    "}\n"
   ]
  }
 ],
 "metadata": {
  "language_info": {
   "name": "python"
  }
 },
 "nbformat": 4,
 "nbformat_minor": 5
}
