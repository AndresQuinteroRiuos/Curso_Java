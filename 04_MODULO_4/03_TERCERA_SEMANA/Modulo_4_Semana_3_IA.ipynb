{
 "cells": [
  {
   "cell_type": "markdown",
   "id": "7c4904cc",
   "metadata": {},
   "source": [
    "### Simulación de Cliente Real con IA\n",
    "\n",
    "**Escenario:**\n",
    "El estudiante interactúa con IA simulando ser un cliente que desea un sistema para:\n",
    "\n",
    "1. Calcular totales de ventas por mes.\n",
    "2. Mostrar el cliente VIP del mes.\n",
    "\n",
    "**IA (Cliente):**\n",
    "\n",
    "> \"Hola, necesito saber cuánto vendimos cada mes este año y quién fue el mejor cliente... pero no sé si eso se puede sacar del sistema actual. ¿Puedes ayudarme?\"\n",
    "\n",
    "**Objetivo del estudiante:**\n",
    "\n",
    "* Formular preguntas aclaratorias (levantamiento de requerimientos).\n",
    "* Traducir los requerimientos en operaciones con `Streams`.\n",
    "\n",
    "---\n",
    "\n",
    "### Simulación de Usuario Confundido\n",
    "\n",
    "**Escenario:**\n",
    "El estudiante presenta su sistema a un usuario que no comprende algunos resultados.\n",
    "\n",
    "**IA (Usuario):**\n",
    "\n",
    "> \"¿Por qué aparece Cliente1 dos veces con diferentes totales? Además, ¿qué significa ese resumen de estadísticas? No entiendo el número de conteo.\"\n",
    "\n",
    "**Objetivo del estudiante:**\n",
    "\n",
    "* Detectar posibles errores de agrupación (por nombre con espacios, mayúsculas, etc.).\n",
    "* Mejorar la claridad de los resultados (formato, etiquetas, documentación).\n",
    "* Sugerir mejoras de experiencia de usuario.\n",
    "\n",
    "---\n"
   ]
  }
 ],
 "metadata": {
  "language_info": {
   "name": "python"
  }
 },
 "nbformat": 4,
 "nbformat_minor": 5
}
