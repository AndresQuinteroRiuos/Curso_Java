{
 "cells": [
  {
   "cell_type": "markdown",
   "id": "a9d78c82",
   "metadata": {},
   "source": [
    "# CLASE 1: **Introducción a PostgreSQL y conexión desde Java**"
   ]
  },
  {
   "cell_type": "markdown",
   "id": "e47d8a5e",
   "metadata": {},
   "source": [
    "## ¿Qué es una Base de Datos Relacional?\n",
    "\n",
    "Una **base de datos relacional (BDR)** es un sistema que almacena información organizada en **tablas** (también llamadas relaciones), en las que los datos se representan mediante **filas** (tuplas) y **columnas** (atributos). Estas bases permiten establecer **relaciones entre tablas** mediante **claves primarias** y **claves foráneas**, siguiendo el modelo relacional propuesto por **Edgar F. Codd en 1970**.\n",
    "\n",
    "### Ejemplo simple:\n",
    "\n",
    "Imaginemos que queremos gestionar una **biblioteca**. Podríamos tener dos tablas:\n",
    "\n",
    "#### Tabla: `Libros`\n",
    "\n",
    "| id\\_libro | titulo                            | autor\\_id |\n",
    "| --------- | --------------------------------- | --------- |\n",
    "| 1         | Cien años de soledad              | 101       |\n",
    "| 2         | El amor en los tiempos del cólera | 101       |\n",
    "\n",
    "#### Tabla: `Autores`\n",
    "\n",
    "| id\\_autor | nombre                 |\n",
    "| --------- | ---------------------- |\n",
    "| 101       | Gabriel García Márquez |\n",
    "\n",
    "* La columna `autor_id` en `Libros` es una **clave foránea** que se relaciona con `id_autor` en `Autores`.\n",
    "\n",
    "---\n"
   ]
  },
  {
   "cell_type": "markdown",
   "id": "31d16d2a",
   "metadata": {},
   "source": [
    "## Características clave de una Base de Datos Relacional:\n",
    "\n",
    "1. **Estructura en tablas**: Toda la información se almacena en tablas que tienen columnas bien definidas con tipos de datos específicos.\n",
    "2. **Relaciones entre datos**: Permite establecer conexiones lógicas entre distintas tablas mediante claves primarias y foráneas.\n",
    "3. **Integridad referencial**: Asegura que las relaciones entre tablas se mantengan coherentes.\n",
    "4. **Uso de SQL**: Utiliza el lenguaje SQL (Structured Query Language) para manipular y consultar los datos.\n",
    "5. **Normalización**: Reduce la redundancia de datos y mejora la organización.\n",
    "6. **Transacciones**: Soporta operaciones atómicas (ACID: Atomicidad, Consistencia, Aislamiento, Durabilidad).\n",
    "\n",
    "---\n"
   ]
  },
  {
   "cell_type": "markdown",
   "id": "8782f60a",
   "metadata": {},
   "source": [
    "## ¿Qué es PostgreSQL?\n",
    "\n",
    "**PostgreSQL** es un sistema de gestión de bases de datos relacional de **código abierto** (open source) y muy potente, que sigue el modelo relacional y también permite funcionalidades de bases de datos orientadas a objetos.\n",
    "\n",
    "> Fue desarrollado originalmente en la Universidad de California, Berkeley, y ha sido mejorado continuamente por la comunidad.\n",
    "\n",
    "---\n"
   ]
  },
  {
   "cell_type": "markdown",
   "id": "3d344168",
   "metadata": {},
   "source": [
    "## Características destacadas de PostgreSQL\n",
    "\n",
    "| Característica                      | Descripción                                                                      |\n",
    "| ----------------------------------- | -------------------------------------------------------------------------------- |\n",
    "|  **Open Source**                  | Gratuito y mantenido por una comunidad activa.                                   |\n",
    "|  **ACID Compliance**             | Garantiza consistencia, integridad y confiabilidad de los datos.                 |\n",
    "|  **Extensibilidad**               | Permite crear funciones personalizadas, nuevos tipos de datos, operadores y más. |\n",
    "|  **Soporte para SQL estándar**    | Compatible con SQL:2008 y extensiones avanzadas.                                 |\n",
    "|  **Relaciones complejas**         | Maneja múltiples tipos de joins, subconsultas, vistas, triggers, etc.            |\n",
    "|  **Tipos de datos avanzados**     | Soporta JSON, arrays, XML, tipos geométricos y más.                              |\n",
    "|  **Indexación avanzada**          | Incluye índices B-tree, Hash, GIN, GiST, BRIN, etc.                              |\n",
    "|  **Seguridad**                    | Control de acceso por roles, autenticación, encriptación, etc.                   |\n",
    "|  **Transacciones y Concurrencia** | Manejo robusto de múltiples usuarios con MVCC (control multiversión).            |\n",
    "|  **Escalabilidad y rendimiento**  | Optimización con paralelización, particionamiento y más.                         |\n",
    "\n",
    "---\n"
   ]
  },
  {
   "cell_type": "markdown",
   "id": "2867ce14",
   "metadata": {},
   "source": [
    "##  Ejemplo de código en PostgreSQL\n",
    "\n",
    "Supongamos que queremos crear las tablas del ejemplo anterior:\n",
    "\n"
   ]
  },
  {
   "cell_type": "code",
   "execution_count": null,
   "id": "6277adf6",
   "metadata": {},
   "outputs": [],
   "source": [
    "-- Crear tabla de autores\n",
    "CREATE TABLE Autores (\n",
    "    id_autor SERIAL PRIMARY KEY,\n",
    "    nombre VARCHAR(100) NOT NULL\n",
    ");\n"
   ]
  },
  {
   "cell_type": "code",
   "execution_count": null,
   "id": "9758076e",
   "metadata": {},
   "outputs": [],
   "source": [
    "-- Crear tabla de libros\n",
    "CREATE TABLE Libros (\n",
    "    id_libro SERIAL PRIMARY KEY,\n",
    "    titulo VARCHAR(150) NOT NULL,\n",
    "    autor_id INT REFERENCES Autores(id_autor)\n",
    ");\n"
   ]
  },
  {
   "cell_type": "code",
   "execution_count": null,
   "id": "92ffde6a",
   "metadata": {},
   "outputs": [],
   "source": [
    "-- Insertar datos\n",
    "INSERT INTO Autores (nombre) VALUES ('Gabriel García Márquez');\n",
    "INSERT INTO Libros (titulo, autor_id) VALUES \n",
    "('Cien años de soledad', 1),\n",
    "('El amor en los tiempos del cólera', 1);\n",
    "\n"
   ]
  },
  {
   "cell_type": "code",
   "execution_count": null,
   "id": "986118ec",
   "metadata": {},
   "outputs": [],
   "source": [
    "-- Consulta JOIN para ver los libros y sus autores\n",
    "SELECT l.titulo, a.nombre\n",
    "FROM Libros l\n",
    "JOIN Autores a ON l.autor_id = a.id_autor;\n"
   ]
  },
  {
   "cell_type": "markdown",
   "id": "060d5bd1",
   "metadata": {},
   "source": [
    "---\n",
    "\n",
    "## Instalación, configuración y uso de **pgAdmin** para administrar bases de datos PostgreSQL.\n"
   ]
  },
  {
   "cell_type": "markdown",
   "id": "f3816bb2",
   "metadata": {},
   "source": [
    "## OPCIÓN 1: **Instalación y uso de pgAdmin**\n",
    "\n",
    "### ¿Qué es pgAdmin?\n",
    "\n",
    "pgAdmin es la **herramienta oficial de administración para PostgreSQL**, desarrollada por la comunidad de PostgreSQL. Es muy completa, basada en web y permite gestionar visualmente bases de datos, ejecutar consultas SQL, crear tablas, y más.\n",
    "\n",
    "---\n"
   ]
  },
  {
   "cell_type": "markdown",
   "id": "8ab424da",
   "metadata": {},
   "source": [
    "### PASO 1: Descargar e instalar PostgreSQL (incluye pgAdmin)\n",
    "\n",
    "1. Ve a la página oficial:\n",
    "   [https://www.postgresql.org/download/](https://www.postgresql.org/download/)\n",
    "2. Selecciona tu sistema operativo: Windows, macOS o Linux.\n",
    "3. En Windows, por ejemplo, selecciona el instalador provisto por **EDB**.\n",
    "4. Descarga el instalador y ejecútalo.\n",
    "\n",
    "---\n"
   ]
  },
  {
   "cell_type": "markdown",
   "id": "eb8f0796",
   "metadata": {},
   "source": [
    "### PASO 2: Instalación guiada\n",
    "\n",
    "1. El instalador te pedirá seleccionar los componentes:\n",
    "\n",
    "   * PostgreSQL Server\n",
    "   * pgAdmin\n",
    "   * (opcional) StackBuilder\n",
    "2. **Elige un directorio de instalación.**\n",
    "3. **Establece una contraseña** para el usuario administrador (`postgres`). Memorízala bien.\n",
    "4. Elige los puertos por defecto (5432).\n",
    "5. Completa la instalación.\n",
    "\n",
    "---\n"
   ]
  },
  {
   "cell_type": "markdown",
   "id": "558e0bbe",
   "metadata": {},
   "source": [
    "### PASO 3: Abrir y configurar pgAdmin\n",
    "\n",
    "1. Una vez instalado, abre **pgAdmin 4** (se abrirá en el navegador).\n",
    "2. Te pedirá la **contraseña del usuario `postgres`** que configuraste antes.\n",
    "3. pgAdmin se conectará automáticamente al servidor local.\n",
    "\n",
    "---\n"
   ]
  },
  {
   "cell_type": "markdown",
   "id": "10f88a17",
   "metadata": {},
   "source": [
    "### PASO 4: Crear una nueva base de datos\n",
    "\n",
    "1. En el panel izquierdo, haz clic derecho sobre **Databases > Create > Database**.\n",
    "2. Escribe un nombre como `biblioteca`.\n",
    "3. Haz clic en \"Save\".\n",
    "\n",
    "---\n"
   ]
  },
  {
   "cell_type": "markdown",
   "id": "2451610e",
   "metadata": {},
   "source": [
    "### PASO 5: Crear tablas y ejecutar consultas\n",
    "\n",
    "1. Selecciona la base de datos creada.\n",
    "2. Ve a la pestaña **Query Tool**.\n",
    "3. Escribe y ejecuta el siguiente código:\n",
    "\n"
   ]
  },
  {
   "cell_type": "code",
   "execution_count": null,
   "id": "a61e094e",
   "metadata": {},
   "outputs": [],
   "source": [
    "CREATE TABLE autores (\n",
    "  id_autor SERIAL PRIMARY KEY,\n",
    "  nombre VARCHAR(100) NOT NULL\n",
    ");\n"
   ]
  },
  {
   "cell_type": "code",
   "execution_count": null,
   "id": "1cc3fc16",
   "metadata": {},
   "outputs": [],
   "source": [
    "CREATE TABLE libros (\n",
    "  id_libro SERIAL PRIMARY KEY,\n",
    "  titulo VARCHAR(150),\n",
    "  autor_id INT REFERENCES autores(id_autor)\n",
    ");\n"
   ]
  },
  {
   "cell_type": "markdown",
   "id": "f19e85d8",
   "metadata": {},
   "source": [
    "---\n",
    "\n",
    "### PASO 6: Insertar datos y consultar\n",
    "\n",
    "```sql\n",
    "INSERT INTO autores (nombre) VALUES ('Gabriel García Márquez');\n",
    "INSERT INTO libros (titulo, autor_id) VALUES ('Cien años de soledad', 1);\n",
    "\n",
    "SELECT * FROM libros;\n",
    "```\n",
    "\n",
    "---\n"
   ]
  },
  {
   "cell_type": "markdown",
   "id": "6ca4f57a",
   "metadata": {},
   "source": [
    "## OPCIÓN 2: **Instalación y uso de DBeaver**\n",
    "\n",
    "### ¿Qué es DBeaver?\n",
    "\n",
    "**DBeaver** es una herramienta de base de datos universal que funciona con múltiples motores (PostgreSQL, MySQL, Oracle, SQL Server, etc.). Es muy popular entre desarrolladores por su diseño amigable y extensibilidad.\n",
    "\n",
    "---\n"
   ]
  },
  {
   "cell_type": "markdown",
   "id": "4ca39158",
   "metadata": {},
   "source": [
    "### PASO 1: Descargar DBeaver\n",
    "\n",
    "1. Ve a la página oficial:\n",
    "   [https://dbeaver.io/download/](https://dbeaver.io/download/)\n",
    "2. Selecciona tu sistema operativo y descarga la versión **Community** (gratuita).\n",
    "3. Instala como cualquier otro programa.\n",
    "\n",
    "---\n"
   ]
  },
  {
   "cell_type": "markdown",
   "id": "c27a6569",
   "metadata": {},
   "source": [
    "### PASO 2: Instalar PostgreSQL (si no lo hiciste ya)\n",
    "\n",
    "* Sigue los mismos pasos de instalación descritos en pgAdmin (incluye el servidor PostgreSQL).\n",
    "\n",
    "---\n"
   ]
  },
  {
   "cell_type": "markdown",
   "id": "7a63bb7d",
   "metadata": {},
   "source": [
    "### PASO 3: Conectar DBeaver a PostgreSQL\n",
    "\n",
    "1. Abre DBeaver.\n",
    "2. Haz clic en el botón **\"New Database Connection\"** (icono de plug o desde menú File > New > Database Connection).\n",
    "3. Selecciona **PostgreSQL** y haz clic en **Next**.\n",
    "4. Llena los datos de conexión:\n",
    "\n",
    "   * Host: `localhost`\n",
    "   * Puerto: `5432`\n",
    "   * Base de datos: `postgres` o la que hayas creado (`biblioteca`)\n",
    "   * Usuario: `postgres`\n",
    "   * Contraseña: la que configuraste\n",
    "5. DBeaver descargará el controlador si es necesario.\n",
    "6. Haz clic en **Finish**.\n",
    "\n",
    "---\n"
   ]
  },
  {
   "cell_type": "markdown",
   "id": "73091567",
   "metadata": {},
   "source": [
    "### PASO 4: Usar el SQL Editor\n",
    "\n",
    "1. Haz doble clic en la conexión para abrirla.\n",
    "2. Ve a la pestaña **SQL Editor**.\n",
    "3. Escribe y ejecuta sentencias como:\n",
    "\n"
   ]
  },
  {
   "cell_type": "code",
   "execution_count": null,
   "id": "801cc2e5",
   "metadata": {},
   "outputs": [],
   "source": [
    "SELECT version();\n",
    "CREATE TABLE ejemplo (\n",
    "  id SERIAL PRIMARY KEY,\n",
    "  nombre TEXT\n",
    ");\n"
   ]
  },
  {
   "cell_type": "markdown",
   "id": "c9ca1370",
   "metadata": {},
   "source": [
    "## > **Creación de esquemas, tablas, tipos de datos y restricciones (PRIMARY KEY, FOREIGN KEY, NOT NULL, etc.)**, incluyendo **ejemplos desde un Diagrama Entidad-Relación (ER)**.\n",
    "\n",
    "---\n"
   ]
  },
  {
   "cell_type": "markdown",
   "id": "65e3a1f0",
   "metadata": {},
   "source": [
    "## 1. ¿Qué es un esquema en PostgreSQL?\n",
    "\n",
    "Un **esquema** en PostgreSQL es como una carpeta o contenedor lógico dentro de una base de datos que organiza tablas, vistas, funciones, etc.\n",
    "\n",
    "* Por defecto, todos los objetos están en el esquema `public`.\n",
    "* Puedes crear esquemas para organizar tu base de datos por módulos o áreas.\n",
    "\n",
    "### Ejemplo:\n",
    "\n",
    "```sql\n",
    "CREATE SCHEMA editorial;\n",
    "```\n",
    "\n",
    "---\n"
   ]
  },
  {
   "cell_type": "markdown",
   "id": "49431d78",
   "metadata": {},
   "source": [
    "## EJERCICIO 1\n",
    "\n",
    "### Contexto:\n",
    "\n",
    "La editorial **\"Cultura Global\"** es una empresa con operaciones en diferentes ciudades del país. Cuenta con varias **sucursales** desde donde se gestionan publicaciones periódicas como revistas. Cada sucursal tiene su propio personal y es responsable de publicar ciertas revistas.\n",
    "\n",
    "Los **empleados** trabajan en una sola sucursal y se registran sus datos personales. Por otro lado, la editorial también cuenta con **periodistas independientes** que no están vinculados a las sucursales, pero que contribuyen con artículos a distintas revistas.\n",
    "\n",
    "Cada **revista** tiene una periodicidad (semanal, mensual, etc.), un tipo (cultural, científico, infantil, etc.), y un número de registro. Además, para cada revista se registran detalles de sus **números publicados**, como la fecha de publicación, cantidad de páginas y el número de ejemplares vendidos.\n",
    "\n",
    "---\n"
   ]
  },
  {
   "cell_type": "markdown",
   "id": "e80090f1",
   "metadata": {},
   "source": [
    "### Tabla resumen de estructuras de la base de datos: Editorial \"Cultura Global\"\n",
    "\n",
    "| **Tabla**           | **Campo**            | **Tipo de Dato** | **Restricciones**                                     |\n",
    "| ------------------- | -------------------- | ---------------- | ----------------------------------------------------- |\n",
    "| **sucursal**        | id\\_sucursal         | `SERIAL`         | `PRIMARY KEY`                                         |\n",
    "|                     | codigo\\_sucursal     | `VARCHAR(10)`    | `NOT NULL`, `UNIQUE`                                  |\n",
    "|                     | domicilio            | `VARCHAR(150)`   | `NOT NULL`                                            |\n",
    "|                     | telefono             | `VARCHAR(20)`    | `NOT NULL`                                            |\n",
    "|                     |                      |                  |                                                       |\n",
    "| **empleado**        | id\\_empleado         | `SERIAL`         | `PRIMARY KEY`                                         |\n",
    "|                     | documento            | `VARCHAR(20)`    | `NOT NULL`, `UNIQUE`                                  |\n",
    "|                     | nombre               | `VARCHAR(100)`   | `NOT NULL`                                            |\n",
    "|                     | telefono             | `VARCHAR(20)`    | `NOT NULL`                                            |\n",
    "|                     | id\\_sucursal         | `INT`            | `NOT NULL`, `FOREIGN KEY` → sucursal.id\\_sucursal     |\n",
    "|                     |                      |                  |                                                       |\n",
    "| **revista**         | id\\_revista          | `SERIAL`         | `PRIMARY KEY`                                         |\n",
    "|                     | titulo               | `VARCHAR(150)`   | `NOT NULL`                                            |\n",
    "|                     | numero\\_registro     | `VARCHAR(50)`    | `NOT NULL`, `UNIQUE`                                  |\n",
    "|                     | periodicidad         | `VARCHAR(50)`    | `NOT NULL`                                            |\n",
    "|                     | tipo                 | `VARCHAR(50)`    | `NOT NULL`                                            |\n",
    "|                     | id\\_sucursal         | `INT`            | `NOT NULL`, `FOREIGN KEY` → sucursal.id\\_sucursal     |\n",
    "|                     |                      |                  |                                                       |\n",
    "| **periodista**      | id\\_periodista       | `SERIAL`         | `PRIMARY KEY`                                         |\n",
    "|                     | documento            | `VARCHAR(20)`    | `NOT NULL`, `UNIQUE`                                  |\n",
    "|                     | nombre               | `VARCHAR(100)`   | `NOT NULL`                                            |\n",
    "|                     | telefono             | `VARCHAR(20)`    | `NOT NULL`                                            |\n",
    "|                     | especialidad         | `VARCHAR(100)`   | `NOT NULL`                                            |\n",
    "|                     |                      |                  |                                                       |\n",
    "| **articulo**        | id\\_articulo         | `SERIAL`         | `PRIMARY KEY`                                         |\n",
    "|                     | titulo               | `VARCHAR(200)`   | `NOT NULL`                                            |\n",
    "|                     | id\\_periodista       | `INT`            | `NOT NULL`, `FOREIGN KEY` → periodista.id\\_periodista |\n",
    "|                     | id\\_revista          | `INT`            | `NOT NULL`, `FOREIGN KEY` → revista.id\\_revista       |\n",
    "|                     |                      |                  |                                                       |\n",
    "| **numero\\_revista** | id\\_numero           | `SERIAL`         | `PRIMARY KEY`                                         |\n",
    "|                     | fecha\\_publicacion   | `DATE`           | `NOT NULL`                                            |\n",
    "|                     | numero\\_paginas      | `INT`            | `NOT NULL`, `CHECK (numero_paginas > 0)`              |\n",
    "|                     | ejemplares\\_vendidos | `INT`            | `NOT NULL`, `DEFAULT 0`, `CHECK (>= 0)`               |\n",
    "|                     | id\\_revista          | `INT`            | `NOT NULL`, `FOREIGN KEY` → revista.id\\_revista       |\n",
    "\n",
    "---\n"
   ]
  },
  {
   "cell_type": "markdown",
   "id": "1ac78ab5",
   "metadata": {},
   "source": [
    "## 1. NORMALIZACIÓN Y MODELADO"
   ]
  },
  {
   "cell_type": "markdown",
   "id": "2d8208dd",
   "metadata": {},
   "source": [
    "### A. Datos iniciales (No normalizados — ejemplo simplificado):\n",
    "\n",
    "| SucursalID | Código | Domicilio | Teléfono | EmpleadoID | Documento | NombreEmpleado | TelEmpleado | RevistaID | TítuloRevista | NºRegistro | Periodicidad | Tipo       | PeriodistaID | DocumentoP | NombreP | TelP     | Especialidad | ArtículoID | TítuloArtículo | FechaNum   | NºPáginas | EjemplaresVendidos |\n",
    "| ---------- | ------ | --------- | -------- | ---------- | --------- | -------------- | ----------- | --------- | ------------- | ---------- | ------------ | ---------- | ------------ | ---------- | ------- | -------- | ------------ | ---------- | -------------- | ---------- | --------- | ------------------ |\n",
    "| 1          | SUC01  | Calle 123 | 555-1111 | 101        | 123456    | Juan Pérez     | 555-2222    | 201       | Ciencia Hoy   | 0001       | Mensual      | Científica | 301          | 987654     | Ana R.  | 555-3333 | Ciencia      | 401        | El cosmos      | 2025-04-01 | 50        | 10000              |\n",
    "\n",
    "> Problemas aquí:\n",
    ">\n",
    "> * Datos repetidos de sucursales para cada empleado y revista.\n",
    "> * Datos repetidos de empleados, periodistas, revistas.\n",
    "> * Teléfonos múltiples sin normalización.\n",
    "> * Artículos asociados a periodistas y revistas mezclados con datos de otras entidades.\n",
    "\n",
    "---\n"
   ]
  },
  {
   "cell_type": "markdown",
   "id": "1c1e6794",
   "metadata": {},
   "source": [
    "### B. **1FN** - Eliminar grupos repetitivos y valores múltiples\n",
    "\n",
    "* Separar teléfonos múltiples en filas distintas.\n",
    "* Asegurarse que cada columna tenga un valor atómico.\n",
    "\n",
    "Ejemplo:\n",
    "\n",
    "| EmpleadoID | Documento | NombreEmpleado | Teléfono |                                    |\n",
    "| ---------- | --------- | -------------- | -------- | ---------------------------------- |\n",
    "| 101        | 123456    | Juan Pérez     | 555-2222 |                                    |\n",
    "| 101        | 123456    | Juan Pérez     | 555-4444 | ← Nuevo registro por otro teléfono |\n",
    "\n",
    "---\n"
   ]
  },
  {
   "cell_type": "markdown",
   "id": "ae820e92",
   "metadata": {},
   "source": [
    "#### C. **2FN** - Evitar dependencias parciales\n",
    "\n",
    "* Una dependencia parcial ocurre cuando, en una tabla que tiene una clave primaria compuesta (formada por más de un campo), uno o más atributos no clave dependen solamente de una parte de esa clave, en lugar de depender de toda la clave.\n",
    "\n",
    "\n",
    "Si hay claves compuestas, todos los atributos deben depender de la clave completa.\n",
    "\n",
    "Ejemplo en RevistaNúmero:\n",
    "\n",
    "| RevistaID | NúmeroID | Fecha      | NºPáginas | EjemplaresVendidos |\n",
    "| --------- | -------- | ---------- | --------- | ------------------ |\n",
    "| 201       | 1        | 2025-04-01 | 50        | 10000              |\n",
    "\n",
    "Clave primaria compuesta (RevistaID, NúmeroID), todos los atributos dependen de ambos.\n",
    "\n",
    "---\n"
   ]
  },
  {
   "cell_type": "markdown",
   "id": "0eb55c1c",
   "metadata": {},
   "source": [
    "#### D. **3FN** - Evitar dependencias transitivas\n",
    "\n",
    "* En una tabla, se dice que existe dependencia transitiva cuando un atributo no clave depende de otro atributo no clave, y este a su vez depende de la clave primaria.\n",
    "\n",
    "\n",
    "\n",
    "Ejemplo: En la tabla Empleado, no debemos guardar el nombre de la sucursal, porque depende del id\\_sucursal, no directamente del empleado.\n",
    "\n",
    "---\n",
    "\n"
   ]
  },
  {
   "cell_type": "markdown",
   "id": "de130a01",
   "metadata": {},
   "source": [
    "## 2. DIAGRAMA ENTIDAD-RELACIÓN"
   ]
  },
  {
   "cell_type": "markdown",
   "id": "ba1cea6a",
   "metadata": {},
   "source": [
    "![Diagrama ER](img/diagrama_ER.jpeg)\n"
   ]
  },
  {
   "cell_type": "markdown",
   "id": "ca1089aa",
   "metadata": {},
   "source": [
    "## 3. MODELADO LÓGICO\n",
    "\n",
    "* DIAGRAMA RELACIONAL"
   ]
  },
  {
   "cell_type": "markdown",
   "id": "806ffdaa",
   "metadata": {},
   "source": [
    "![Diagrama Relacional](img/diagrama_relacional.jpg)\n"
   ]
  },
  {
   "cell_type": "markdown",
   "id": "5666cc2d",
   "metadata": {},
   "source": [
    "## 4. CREACIÓN DEL ESQUEMA\n",
    "\n",
    "```sql\n",
    "CREATE SCHEMA editorial;\n",
    "```\n",
    "\n",
    "---\n"
   ]
  },
  {
   "cell_type": "markdown",
   "id": "86511c28",
   "metadata": {},
   "source": [
    "## 5. CREACIÓN DE TABLAS CON RESTRICCIONES\n",
    "\n",
    "---\n"
   ]
  },
  {
   "cell_type": "markdown",
   "id": "0526d2a6",
   "metadata": {},
   "source": [
    "### Tabla SUCURSAL"
   ]
  },
  {
   "cell_type": "code",
   "execution_count": null,
   "id": "2b24b4c8",
   "metadata": {},
   "outputs": [],
   "source": [
    "CREATE TABLE sucursal (\n",
    "  id_sucursal SERIAL PRIMARY KEY,\n",
    "  codigo_sucursal VARCHAR(10) NOT NULL UNIQUE,\n",
    "  domicilio VARCHAR(150) NOT NULL,\n",
    "  telefono VARCHAR(20) NOT NULL\n",
    ");\n"
   ]
  },
  {
   "cell_type": "markdown",
   "id": "978915be",
   "metadata": {},
   "source": [
    "---\n",
    "\n",
    "### Tabla EMPLEADO\n",
    "\n"
   ]
  },
  {
   "cell_type": "code",
   "execution_count": null,
   "id": "0e8d1471",
   "metadata": {},
   "outputs": [],
   "source": [
    "CREATE TABLE empleado (\n",
    "  id_empleado SERIAL PRIMARY KEY,\n",
    "  documento VARCHAR(20) NOT NULL UNIQUE,\n",
    "  nombre VARCHAR(100) NOT NULL,\n",
    "  telefono VARCHAR(20) NOT NULL,\n",
    "  id_sucursal INT NOT NULL,\n",
    "  FOREIGN KEY (id_sucursal) REFERENCES sucursal(id_sucursal)\n",
    ");\n"
   ]
  },
  {
   "cell_type": "markdown",
   "id": "222d714a",
   "metadata": {},
   "source": [
    "---\n",
    "\n",
    "### Tabla REVISTA\n",
    "\n"
   ]
  },
  {
   "cell_type": "code",
   "execution_count": null,
   "id": "a1eac245",
   "metadata": {},
   "outputs": [],
   "source": [
    "CREATE TABLE revista (\n",
    "  id_revista SERIAL PRIMARY KEY,\n",
    "  titulo VARCHAR(150) NOT NULL,\n",
    "  numero_registro VARCHAR(50) NOT NULL UNIQUE,\n",
    "  periodicidad VARCHAR(50) NOT NULL,\n",
    "  tipo VARCHAR(50) NOT NULL,\n",
    "  id_sucursal INT NOT NULL,\n",
    "  FOREIGN KEY (id_sucursal) REFERENCES sucursal(id_sucursal)\n",
    ");\n"
   ]
  },
  {
   "cell_type": "markdown",
   "id": "cff61bea",
   "metadata": {},
   "source": [
    "---\n",
    "\n",
    "### Tabla PERIODISTA\n",
    "\n"
   ]
  },
  {
   "cell_type": "code",
   "execution_count": null,
   "id": "0a1c8817",
   "metadata": {},
   "outputs": [],
   "source": [
    "CREATE TABLE periodista (\n",
    "  id_periodista SERIAL PRIMARY KEY,\n",
    "  documento VARCHAR(20) NOT NULL UNIQUE,\n",
    "  nombre VARCHAR(100) NOT NULL,\n",
    "  telefono VARCHAR(20) NOT NULL,\n",
    "  especialidad VARCHAR(100) NOT NULL\n",
    ");\n"
   ]
  },
  {
   "cell_type": "markdown",
   "id": "f4dda7df",
   "metadata": {},
   "source": [
    "---\n",
    "\n",
    "### Tabla ARTICULO (Relación N\\:M entre periodista y revista)\n",
    "\n"
   ]
  },
  {
   "cell_type": "code",
   "execution_count": null,
   "id": "3edc4596",
   "metadata": {},
   "outputs": [],
   "source": [
    "CREATE TABLE articulo (\n",
    "  id_articulo SERIAL PRIMARY KEY,\n",
    "  titulo VARCHAR(200) NOT NULL,\n",
    "  id_periodista INT NOT NULL,\n",
    "  id_revista INT NOT NULL,\n",
    "  FOREIGN KEY (id_periodista) REFERENCES periodista(id_periodista),\n",
    "  FOREIGN KEY (id_revista) REFERENCES revista(id_revista)\n",
    ");\n"
   ]
  },
  {
   "cell_type": "markdown",
   "id": "4b3b091e",
   "metadata": {},
   "source": [
    "---\n",
    "\n",
    "### Tabla NUMERO\\_REVISTA (Publicaciones de cada revista)\n",
    "\n"
   ]
  },
  {
   "cell_type": "code",
   "execution_count": null,
   "id": "90bc7234",
   "metadata": {},
   "outputs": [],
   "source": [
    "CREATE TABLE numero_revista (\n",
    "  id_numero SERIAL PRIMARY KEY,\n",
    "  fecha_publicacion DATE NOT NULL,\n",
    "  numero_paginas INT NOT NULL CHECK (numero_paginas > 0),\n",
    "  ejemplares_vendidos INT NOT NULL DEFAULT 0 CHECK (ejemplares_vendidos >= 0),\n",
    "  id_revista INT NOT NULL,\n",
    "  FOREIGN KEY (id_revista) REFERENCES revista(id_revista)\n",
    ");\n"
   ]
  },
  {
   "cell_type": "markdown",
   "id": "2e0a9217",
   "metadata": {},
   "source": [
    "---\n",
    "\n",
    "## INSERCIÓN DE DATOS\n",
    "\n"
   ]
  },
  {
   "cell_type": "code",
   "execution_count": null,
   "id": "1b6174d8",
   "metadata": {},
   "outputs": [],
   "source": [
    "-- Sucursal\n",
    "INSERT INTO sucursal (codigo_sucursal, domicilio, telefono)\n",
    "VALUES ('SC01', 'Cra 45 #12-34, Bogotá', '6012345678');\n",
    "\n",
    "-- Empleado\n",
    "INSERT INTO empleado (documento, nombre, telefono, id_sucursal)\n",
    "VALUES ('12345678', 'Laura Gómez', '3101234567', 1);\n",
    "\n",
    "-- Periodista\n",
    "INSERT INTO periodista (documento, nombre, telefono, especialidad)\n",
    "VALUES ('87654321', 'Carlos Ruiz', '3117654321', 'Cultura');\n",
    "\n",
    "-- Revista\n",
    "INSERT INTO revista (titulo, numero_registro, periodicidad, tipo, id_sucursal)\n",
    "VALUES ('Cultura Viva', 'REG-001-CUL', 'Mensual', 'Cultural', 1);\n",
    "\n",
    "-- Artículo\n",
    "INSERT INTO articulo (titulo, id_periodista, id_revista)\n",
    "VALUES ('La vida en los pueblos indígenas', 1, 1);\n",
    "\n",
    "-- Número de revista\n",
    "INSERT INTO numero_revista (fecha_publicacion, numero_paginas, ejemplares_vendidos, id_revista)\n",
    "VALUES ('2025-05-01', 56, 1200, 1);\n"
   ]
  },
  {
   "cell_type": "markdown",
   "id": "9ec7570f",
   "metadata": {},
   "source": [
    "## 6. Conexión del **modelo de la editorial** a una base de datos PostgreSQL usando **Java con Spring Boot y Spring Data JPA**. \n",
    "\n",
    "---\n"
   ]
  },
  {
   "cell_type": "markdown",
   "id": "5a944c55",
   "metadata": {},
   "source": [
    "## 1. Estructura del proyecto\n",
    "\n",
    "Usaremos:\n",
    "\n",
    "* Java 21+\n",
    "* Spring Boot 3.x\n",
    "* Spring Data JPA\n",
    "* PostgreSQL\n",
    "* Lombok (opcional para simplificar getters/setters)\n",
    "\n",
    "### Puedes generar tu proyecto con:\n",
    "\n",
    "[https://start.spring.io](https://start.spring.io)\n",
    "\n",
    "Selecciona:\n",
    "\n",
    "* **Dependencies**:\n",
    "\n",
    "  * Spring Web\n",
    "  * Spring Data JPA\n",
    "  * PostgreSQL Driver\n",
    "  * Lombok (opcional)\n",
    "  * Spring Boot DevTools (opcional)\n",
    "\n",
    "---\n"
   ]
  },
  {
   "cell_type": "markdown",
   "id": "3f4c280f",
   "metadata": {},
   "source": [
    "## Arquitectura por Capas (CADAS)\n",
    "\n",
    "Organizaremos el proyecto en las siguientes capas:\n",
    "\n",
    "1. **Entidad (Entity)**\n",
    "2. **Repositorio (Repository)**\n",
    "3. **Servicio (Service)**\n",
    "4. **Controlador (Controller)**\n",
    "5. **DTOs (opcional, recomendable para separar lógica del modelo)**\n",
    "\n",
    "---\n"
   ]
  },
  {
   "cell_type": "markdown",
   "id": "d0958b1d",
   "metadata": {},
   "source": [
    "## Estructura del proyecto `editorial-springboot`\n",
    "\n",
    "```\n",
    "editorial-springboot/\n",
    "├── src/\n",
    "│   ├── main/\n",
    "│   │   ├── java/com/editorial/\n",
    "│   │   │   ├── EditorialApplication.java\n",
    "│   │   │\n",
    "│   │   │   ├── entity/\n",
    "│   │   │   │   ├── Empleado.java\n",
    "│   │   │   │   ├── Periodista.java\n",
    "│   │   │   │   ├── Revista.java\n",
    "│   │   │   │   ├── NumeroRevista.java\n",
    "│   │   │   │   ├── Sucursal.java\n",
    "│   │   │   │   └── Articulo.java\n",
    "│   │   │\n",
    "│   │   │   ├── repository/\n",
    "│   │   │   │   ├── EmpleadoRepository.java\n",
    "│   │   │   │   ├── PeriodistaRepository.java\n",
    "│   │   │   │   ├── RevistaRepository.java\n",
    "│   │   │   │   ├── NumeroRevistaRepository.java\n",
    "│   │   │   │   ├── SucursalRepository.java\n",
    "│   │   │   │   └── ArticuloRepository.java\n",
    "│   │   │\n",
    "│   │   │   ├── service/\n",
    "│   │   │   │   └── (opcional: para lógica de negocio)\n",
    "│   │   │\n",
    "│   │   │   └── controller/\n",
    "│   │   │       ├── EmpleadoController.java\n",
    "│   │   │       ├── PeriodistaController.java\n",
    "│   │   │       ├── RevistaController.java\n",
    "│   │   │       ├── NumeroRevistaController.java\n",
    "│   │   │       ├── SucursalController.java\n",
    "│   │   │       └── ArticuloController.java\n",
    "│   │\n",
    "│   │   └── resources/\n",
    "│   │       ├── application.properties\n",
    "│   │       └── data.sql (opcional)\n",
    "```\n",
    "\n",
    "---\n"
   ]
  },
  {
   "cell_type": "markdown",
   "id": "d445d3dc",
   "metadata": {},
   "source": [
    "\n",
    "# Orden para desarrollar el proyecto completo\n",
    "\n",
    "---\n",
    "\n",
    "## 1. **Archivo principal de la aplicación**\n",
    "\n",
    "* `src/main/java/com/editorial/EditorialApplication.java`\n",
    "\n",
    "## 2. **Entidades JPA**\n",
    "\n",
    "* `src/main/java/com/editorial/entity/Sucursal.java`\n",
    "\n",
    "* `src/main/java/com/editorial/entity/Empleado.java`\n",
    "\n",
    "* `src/main/java/com/editorial/entity/Periodista.java`\n",
    "\n",
    "* `src/main/java/com/editorial/entity/Revista.java`\n",
    "\n",
    "* `src/main/java/com/editorial/entity/NumeroRevista.java`\n",
    "\n",
    "## 3. **Repositorios (Data Access Layer)**\n",
    "\n",
    "* `src/main/java/com/editorial/repository/SucursalRepository.java`\n",
    "\n",
    "* `src/main/java/com/editorial/repository/EmpleadoRepository.java`\n",
    "\n",
    "* `src/main/java/com/editorial/repository/PeriodistaRepository.java`\n",
    "\n",
    "* `src/main/java/com/editorial/repository/RevistaRepository.java`\n",
    "\n",
    "* `src/main/java/com/editorial/repository/NumeroRevistaRepository.java`\n",
    "\n",
    "## 4. **Controladores REST (Web Layer)**\n",
    "\n",
    "* `src/main/java/com/editorial/controller/SucursalController.java`\n",
    "  Explica rutas básicas `/sucursales` con GET, POST, PUT, DELETE.\n",
    "\n",
    "* `src/main/java/com/editorial/controller/EmpleadoController.java`\n",
    "  Rutas `/empleados` con métodos CRUD.\n",
    "\n",
    "* `src/main/java/com/editorial/controller/PeriodistaController.java`\n",
    "  Rutas `/periodistas`.\n",
    "\n",
    "* `src/main/java/com/editorial/controller/RevistaController.java`\n",
    "  Rutas `/revistas`.\n",
    "\n",
    "* `src/main/java/com/editorial/controller/NumeroRevistaController.java`\n",
    "  Rutas `/numeros`.\n",
    "\n",
    "# Resumen del orden y ubicación:\n",
    "\n",
    "| Paso | Ruta y Archivo                                                        | Descripción                    |\n",
    "| ---- | --------------------------------------------------------------------- | ------------------------------ |\n",
    "| 1    | `src/main/java/com/editorial/EditorialApplication.java`               | Archivo principal Spring Boot  |\n",
    "| 2    | `src/main/java/com/editorial/entity/Sucursal.java`                    | Entidad Sucursal               |\n",
    "| 3    | `src/main/java/com/editorial/entity/Empleado.java`                    | Entidad Empleado               |\n",
    "| 4    | `src/main/java/com/editorial/entity/Periodista.java`                  | Entidad Periodista             |\n",
    "| 5    | `src/main/java/com/editorial/entity/Revista.java`                     | Entidad Revista                |\n",
    "| 6    | `src/main/java/com/editorial/entity/NumeroRevista.java`               | Entidad NumeroRevista          |\n",
    "| 7    | `src/main/java/com/editorial/repository/SucursalRepository.java`      | Repositorio Sucursal           |\n",
    "| 8    | `src/main/java/com/editorial/repository/EmpleadoRepository.java`      | Repositorio Empleado           |\n",
    "| 9    | `src/main/java/com/editorial/repository/PeriodistaRepository.java`    | Repositorio Periodista         |\n",
    "| 10   | `src/main/java/com/editorial/repository/RevistaRepository.java`       | Repositorio Revista            |\n",
    "| 11   | `src/main/java/com/editorial/repository/NumeroRevistaRepository.java` | Repositorio NumeroRevista      |\n",
    "| 12   | `src/main/java/com/editorial/controller/SucursalController.java`      | Controlador REST Sucursal      |\n",
    "| 13   | `src/main/java/com/editorial/controller/EmpleadoController.java`      | Controlador REST Empleado      |\n",
    "| 14   | `src/main/java/com/editorial/controller/PeriodistaController.java`    | Controlador REST Periodista    |\n",
    "| 15   | `src/main/java/com/editorial/controller/RevistaController.java`       | Controlador REST Revista       |\n",
    "| 16   | `src/main/java/com/editorial/controller/NumeroRevistaController.java` | Controlador REST NumeroRevista |\n"
   ]
  },
  {
   "cell_type": "markdown",
   "id": "c57ea41c",
   "metadata": {},
   "source": [
    "# 1. Archivo `pom.xml` Dependencias necesarias\n",
    "\n",
    "Primero, asegúrate de tener las dependencias básicas para Spring Boot, Spring Data JPA, PostgreSQL y Lombok:\n",
    "\n"
   ]
  },
  {
   "cell_type": "code",
   "execution_count": null,
   "id": "0d42a3b2",
   "metadata": {},
   "outputs": [],
   "source": [
    "<dependencies>\n",
    "    <!-- Spring Boot Starter Data JPA -->\n",
    "    <dependency>\n",
    "      <groupId>org.springframework.boot</groupId>\n",
    "      <artifactId>spring-boot-starter-data-jpa</artifactId>\n",
    "      <version>2.7.5</version>\n",
    "    </dependency>\n",
    "\n",
    "    <!-- PostgreSQL Driver -->\n",
    "    <dependency>\n",
    "      <groupId>org.postgresql</groupId>\n",
    "      <artifactId>postgresql</artifactId>\n",
    "      <version>42.5.0</version>\n",
    "      <scope>runtime</scope>\n",
    "    </dependency>\n",
    "\n",
    "    <!-- Lombok -->\n",
    "    <dependency>\n",
    "      <groupId>org.projectlombok</groupId>\n",
    "      <artifactId>lombok</artifactId>\n",
    "      <version>1.18.26</version>\n",
    "      <optional>true</optional>\n",
    "    </dependency>\n",
    "\n",
    "    <!-- Spring Boot Starter Web (para controller REST) -->\n",
    "    <dependency>\n",
    "      <groupId>org.springframework.boot</groupId>\n",
    "      <artifactId>spring-boot-starter-web</artifactId>\n",
    "      <version>2.7.5</version>\n",
    "    </dependency>\n",
    "\n",
    "    <!-- Test (opcional) -->\n",
    "    <dependency>\n",
    "      <groupId>org.springframework.boot</groupId>\n",
    "      <artifactId>spring-boot-starter-test</artifactId>\n",
    "      <version>2.7.5</version>\n",
    "      <scope>test</scope>\n",
    "    </dependency>\n",
    "  </dependencies>"
   ]
  },
  {
   "cell_type": "markdown",
   "id": "7dd19efb",
   "metadata": {},
   "source": [
    "---\n",
    "\n",
    "# 2. Configuración de conexión (`application.properties`)\n",
    "\n",
    "En `src/main/resources/application.properties` define la conexión a PostgreSQL:\n",
    "\n"
   ]
  },
  {
   "cell_type": "code",
   "execution_count": null,
   "id": "619091b8",
   "metadata": {},
   "outputs": [],
   "source": [
    "spring.datasource.url=jdbc:postgresql://localhost:5432/Editorial\n",
    "spring.datasource.username=postgres\n",
    "spring.datasource.password=1126254560\n",
    "spring.datasource.driver-class-name=org.postgresql.Driver\n",
    "\n",
    "spring.jpa.hibernate.ddl-auto=update\n",
    "spring.jpa.show-sql=true\n",
    "spring.jpa.properties.hibernate.format_sql=true\n",
    "\n",
    "# Opcional para mejorar compatibilidad con PostgreSQL\n",
    "spring.jpa.properties.hibernate.dialect=org.hibernate.dialect.PostgreSQLDialect\n"
   ]
  },
  {
   "cell_type": "markdown",
   "id": "a806466a",
   "metadata": {},
   "source": [
    "> Cambia `tu_usuario`, `tu_password` y el nombre `editorialdb` según tu configuración.\n",
    "\n",
    "---\n"
   ]
  },
  {
   "cell_type": "markdown",
   "id": "4d210ade",
   "metadata": {},
   "source": [
    "# 3. Clase principal (`EditorialApplication.java`)\n",
    "\n"
   ]
  },
  {
   "cell_type": "code",
   "execution_count": null,
   "id": "932fafa4",
   "metadata": {},
   "outputs": [],
   "source": [
    "package com.editorial;\n",
    "\n",
    "import org.springframework.boot.SpringApplication;\n",
    "import org.springframework.boot.autoconfigure.SpringBootApplication;\n",
    "\n",
    "@SpringBootApplication\n",
    "public class EditorialApplication {\n",
    "    public static void main(String[] args) {\n",
    "        SpringApplication.run(EditorialApplication.class, args);\n",
    "    }\n",
    "}\n"
   ]
  },
  {
   "cell_type": "markdown",
   "id": "c4cdfd7b",
   "metadata": {},
   "source": [
    "---\n",
    "\n",
    "# 4. Entidades\n",
    "\n",
    "\n"
   ]
  },
  {
   "cell_type": "markdown",
   "id": "29ba5a94",
   "metadata": {},
   "source": [
    "### `src/main/java/com/editorial/entity/Articulo.java`"
   ]
  },
  {
   "cell_type": "code",
   "execution_count": null,
   "id": "ed9a2317",
   "metadata": {},
   "outputs": [],
   "source": [
    "package com.editorial.entity;\n",
    "\n",
    "import javax.persistence.*;\n",
    "import lombok.*;\n",
    "\n",
    "@Entity\n",
    "@Table(name = \"articulo\")\n",
    "@Getter\n",
    "@Setter\n",
    "@NoArgsConstructor\n",
    "@AllArgsConstructor\n",
    "@Builder\n",
    "public class Articulo {\n",
    "\n",
    "    @Id\n",
    "    @GeneratedValue(strategy = GenerationType.IDENTITY)\n",
    "    @Column(name = \"id_articulo\")\n",
    "    private Integer id;\n",
    "\n",
    "    @Column(name = \"titulo\", nullable = false, length = 200)\n",
    "    private String titulo;\n",
    "\n",
    "    // Relación con Periodista (muchos artículos a un periodista)\n",
    "    @ManyToOne(fetch = FetchType.LAZY)\n",
    "    @JoinColumn(name = \"id_periodista\", nullable = false)\n",
    "    private Periodista periodista;\n",
    "\n",
    "    // Relación con Revista (muchos artículos a una revista)\n",
    "    @ManyToOne(fetch = FetchType.LAZY)\n",
    "    @JoinColumn(name = \"id_revista\", nullable = false)\n",
    "    private Revista revista;\n",
    "}\n"
   ]
  },
  {
   "cell_type": "markdown",
   "id": "349945f2",
   "metadata": {},
   "source": [
    "### `src/main/java/com/editorial/entity/Sucursal.java`\n",
    "\n"
   ]
  },
  {
   "cell_type": "code",
   "execution_count": null,
   "id": "a69a446d",
   "metadata": {},
   "outputs": [],
   "source": [
    "package com.editorial.entity;\n",
    "\n",
    "import javax.persistence.*;\n",
    "import lombok.*;\n",
    "\n",
    "@Entity\n",
    "@Table(name = \"sucursal\")\n",
    "@Data\n",
    "@NoArgsConstructor\n",
    "@AllArgsConstructor\n",
    "public class Sucursal {\n",
    "\n",
    "    @Id\n",
    "    @GeneratedValue(strategy = GenerationType.IDENTITY)\n",
    "    private Long idSucursal;\n",
    "\n",
    "    @Column(nullable = false, unique = true, length = 10)\n",
    "    private String codigoSucursal;\n",
    "\n",
    "    @Column(nullable = false, length = 150)\n",
    "    private String domicilio;\n",
    "\n",
    "    @Column(nullable = false, length = 20)\n",
    "    private String telefono;\n",
    "}\n"
   ]
  },
  {
   "cell_type": "markdown",
   "id": "2e7ae038",
   "metadata": {},
   "source": [
    "### `src/main/java/com/editorial/entity/Empleado.java`\n",
    "\n"
   ]
  },
  {
   "cell_type": "code",
   "execution_count": null,
   "id": "5e9ee4f6",
   "metadata": {},
   "outputs": [],
   "source": [
    "package com.editorial.entity;\n",
    "\n",
    "import javax.persistence.*;\n",
    "import lombok.*;\n",
    "\n",
    "@Entity\n",
    "@Table(name = \"empleado\")\n",
    "@Data\n",
    "@NoArgsConstructor\n",
    "@AllArgsConstructor\n",
    "public class Empleado {\n",
    "\n",
    "    @Id\n",
    "    @GeneratedValue(strategy = GenerationType.IDENTITY)\n",
    "    private Long idEmpleado;\n",
    "\n",
    "    @Column(nullable = false, unique = true, length = 20)\n",
    "    private String documento;\n",
    "\n",
    "    @Column(nullable = false, length = 100)\n",
    "    private String nombre;\n",
    "\n",
    "    @Column(nullable = false, length = 20)\n",
    "    private String telefono;\n",
    "\n",
    "    @ManyToOne\n",
    "    @JoinColumn(name = \"id_sucursal\", nullable = false)\n",
    "    private Sucursal sucursal;\n",
    "}\n"
   ]
  },
  {
   "cell_type": "markdown",
   "id": "e75889b8",
   "metadata": {},
   "source": [
    "### `src/main/java/com/editorial/entity/Revista.java`\n",
    "\n"
   ]
  },
  {
   "cell_type": "code",
   "execution_count": null,
   "id": "fd5f5ea4",
   "metadata": {},
   "outputs": [],
   "source": [
    "package com.editorial.entity;\n",
    "\n",
    "import javax.persistence.*;\n",
    "import lombok.*;\n",
    "\n",
    "@Entity\n",
    "@Table(name = \"revista\")\n",
    "@Data\n",
    "@NoArgsConstructor\n",
    "@AllArgsConstructor\n",
    "public class Revista {\n",
    "\n",
    "    @Id\n",
    "    @GeneratedValue(strategy = GenerationType.IDENTITY)\n",
    "    private Long idRevista;\n",
    "\n",
    "    @Column(nullable = false, length = 150)\n",
    "    private String titulo;\n",
    "\n",
    "    @Column(nullable = false, unique = true, length = 50)\n",
    "    private String numeroRegistro;\n",
    "\n",
    "    @Column(nullable = false, length = 50)\n",
    "    private String periodicidad;\n",
    "\n",
    "    @Column(nullable = false, length = 50)\n",
    "    private String tipo;\n",
    "\n",
    "    @ManyToOne\n",
    "    @JoinColumn(name = \"id_sucursal\", nullable = false)\n",
    "    private Sucursal sucursal;\n",
    "}\n"
   ]
  },
  {
   "cell_type": "markdown",
   "id": "0a5874f0",
   "metadata": {},
   "source": [
    "### `src/main/java/com/editorial/entity/Periodista.java`\n",
    "\n"
   ]
  },
  {
   "cell_type": "code",
   "execution_count": null,
   "id": "89a8c33f",
   "metadata": {},
   "outputs": [],
   "source": [
    "package com.editorial.entity;\n",
    "\n",
    "import javax.persistence.*;\n",
    "import lombok.*;\n",
    "\n",
    "@Entity\n",
    "@Table(name = \"periodista\")\n",
    "@Data\n",
    "@NoArgsConstructor\n",
    "@AllArgsConstructor\n",
    "public class Periodista {\n",
    "\n",
    "    @Id\n",
    "    @GeneratedValue(strategy = GenerationType.IDENTITY)\n",
    "    private Long idPeriodista;\n",
    "\n",
    "    @Column(nullable = false, unique = true, length = 20)\n",
    "    private String documento;\n",
    "\n",
    "    @Column(nullable = false, length = 100)\n",
    "    private String nombre;\n",
    "\n",
    "    @Column(nullable = false, length = 20)\n",
    "    private String telefono;\n",
    "\n",
    "    @Column(nullable = false, length = 100)\n",
    "    private String especialidad;\n",
    "}\n"
   ]
  },
  {
   "cell_type": "markdown",
   "id": "d2bf64cf",
   "metadata": {},
   "source": [
    "### `src/main/java/com/editorial/entity/NumeroRevista.java`\n",
    "\n"
   ]
  },
  {
   "cell_type": "code",
   "execution_count": null,
   "id": "2fa19aed",
   "metadata": {},
   "outputs": [],
   "source": [
    "package com.editorial.entity;\n",
    "\n",
    "import javax.persistence.*;\n",
    "import lombok.*;\n",
    "import java.time.LocalDate;\n",
    "\n",
    "@Entity\n",
    "@Table(name = \"numero_revista\")\n",
    "@Data\n",
    "@NoArgsConstructor\n",
    "@AllArgsConstructor\n",
    "public class NumeroRevista {\n",
    "\n",
    "    @Id\n",
    "    @GeneratedValue(strategy = GenerationType.IDENTITY)\n",
    "    private Long idNumero;\n",
    "\n",
    "    @Column(name = \"fecha_publicacion\", nullable = false)\n",
    "    private LocalDate fechaPublicacion;\n",
    "\n",
    "    @Column(name = \"numero_paginas\", nullable = false)\n",
    "    private int numeroPaginas;\n",
    "\n",
    "    @Column(name = \"ejemplares_vendidos\", nullable = false)\n",
    "    private int ejemplaresVendidos = 0;\n",
    "\n",
    "    @ManyToOne\n",
    "    @JoinColumn(name = \"id_revista\", nullable = false)\n",
    "    private Revista revista;\n",
    "}\n"
   ]
  },
  {
   "cell_type": "markdown",
   "id": "d10aef9f",
   "metadata": {},
   "source": [
    "# 5. Repositorios\n",
    "\n"
   ]
  },
  {
   "cell_type": "markdown",
   "id": "aceb5148",
   "metadata": {},
   "source": [
    "### `src/main/java/com/editorial/repository/SucursalRepository.java`\n",
    "\n"
   ]
  },
  {
   "cell_type": "code",
   "execution_count": null,
   "id": "328c3dd4",
   "metadata": {},
   "outputs": [],
   "source": [
    "package com.editorial.repository;\n",
    "\n",
    "import com.editorial.entity.Sucursal;\n",
    "import org.springframework.data.jpa.repository.JpaRepository;\n",
    "\n",
    "public interface SucursalRepository extends JpaRepository<Sucursal, Long> {\n",
    "}\n"
   ]
  },
  {
   "cell_type": "markdown",
   "id": "9fc8041e",
   "metadata": {},
   "source": [
    "### `src/main/java/com/editorial/repository/EmpleadoRepository.java`\n",
    "\n"
   ]
  },
  {
   "cell_type": "code",
   "execution_count": null,
   "id": "f4d7cb6a",
   "metadata": {},
   "outputs": [],
   "source": [
    "package com.editorial.repository;\n",
    "\n",
    "import com.editorial.entity.Empleado;\n",
    "import org.springframework.data.jpa.repository.JpaRepository;\n",
    "\n",
    "public interface EmpleadoRepository extends JpaRepository<Empleado, Long> {\n",
    "}\n"
   ]
  },
  {
   "cell_type": "markdown",
   "id": "9d92a8fd",
   "metadata": {},
   "source": [
    "### `src/main/java/com/editorial/repository/RevistaRepository.java`\n",
    "\n"
   ]
  },
  {
   "cell_type": "code",
   "execution_count": null,
   "id": "293419e4",
   "metadata": {},
   "outputs": [],
   "source": [
    "package com.editorial.repository;\n",
    "\n",
    "import com.editorial.entity.Revista;\n",
    "import org.springframework.data.jpa.repository.JpaRepository;\n",
    "\n",
    "public interface RevistaRepository extends JpaRepository<Revista, Long> {\n",
    "}\n"
   ]
  },
  {
   "cell_type": "markdown",
   "id": "f5f6b184",
   "metadata": {},
   "source": [
    "### `src/main/java/com/editorial/repository/PeriodistaRepository.java`\n",
    "\n"
   ]
  },
  {
   "cell_type": "code",
   "execution_count": null,
   "id": "868f6c13",
   "metadata": {},
   "outputs": [],
   "source": [
    "package com.editorial.repository;\n",
    "\n",
    "import com.editorial.entity.Periodista;\n",
    "import org.springframework.data.jpa.repository.JpaRepository;\n",
    "\n",
    "public interface PeriodistaRepository extends JpaRepository<Periodista, Long> {\n",
    "}\n"
   ]
  },
  {
   "cell_type": "markdown",
   "id": "e6404b3a",
   "metadata": {},
   "source": [
    "### `src/main/java/com/editorial/repository/ArticuloRepository.java`\n",
    "\n"
   ]
  },
  {
   "cell_type": "code",
   "execution_count": null,
   "id": "3581cdb0",
   "metadata": {},
   "outputs": [],
   "source": [
    "package com.editorial.repository;\n",
    "\n",
    "import com.editorial.entity.Articulo;\n",
    "import org.springframework.data.jpa.repository.JpaRepository;\n",
    "\n",
    "public interface ArticuloRepository extends JpaRepository<Articulo, Long> {\n",
    "}\n"
   ]
  },
  {
   "cell_type": "markdown",
   "id": "4e4dc407",
   "metadata": {},
   "source": [
    "### `src/main/java/com/editorial/repository/NumeroRevistaRepository.java`\n",
    "\n"
   ]
  },
  {
   "cell_type": "code",
   "execution_count": null,
   "id": "9a46a072",
   "metadata": {},
   "outputs": [],
   "source": [
    "package com.editorial.repository;\n",
    "\n",
    "import com.editorial.entity.NumeroRevista;\n",
    "import org.springframework.data.jpa.repository.JpaRepository;\n",
    "\n",
    "public interface NumeroRevistaRepository extends JpaRepository<NumeroRevista, Long> {\n",
    "}\n"
   ]
  },
  {
   "cell_type": "markdown",
   "id": "68d29cf2",
   "metadata": {},
   "source": [
    "# 6. Controlador REST "
   ]
  },
  {
   "cell_type": "markdown",
   "id": "d83438f0",
   "metadata": {},
   "source": [
    "### `src/main/java/com/editorial/controller/SucursalController.java`\n",
    "\n"
   ]
  },
  {
   "cell_type": "code",
   "execution_count": null,
   "id": "c05a0711",
   "metadata": {},
   "outputs": [],
   "source": [
    "package com.editorial.controller;\n",
    "\n",
    "import com.editorial.entity.Sucursal;\n",
    "import com.editorial.repository.SucursalRepository;\n",
    "import org.springframework.web.bind.annotation.*;\n",
    "\n",
    "import java.util.List;\n",
    "\n",
    "@RestController\n",
    "@RequestMapping(\"/api/sucursales\")\n",
    "public class SucursalController {\n",
    "\n",
    "    private final SucursalRepository repository;\n",
    "\n",
    "    public SucursalController(SucursalRepository repository) {\n",
    "        this.repository = repository;\n",
    "    }\n",
    "\n",
    "    @GetMapping\n",
    "    public List<Sucursal> getAll() {\n",
    "        return repository.findAll();\n",
    "    }\n",
    "\n",
    "    @PostMapping\n",
    "    public Sucursal create(@RequestBody Sucursal sucursal) {\n",
    "        return repository.save(sucursal);\n",
    "    }\n",
    "\n",
    "    @PutMapping(\"/{id}\")\n",
    "    public Sucursal update(@PathVariable Long id, @RequestBody Sucursal sucursal) {\n",
    "        sucursal.setId(id);\n",
    "        return repository.save(sucursal);\n",
    "    }\n",
    "\n",
    "    @DeleteMapping(\"/{id}\")\n",
    "    public void delete(@PathVariable Long id) {\n",
    "        repository.deleteById(id);\n",
    "    }\n",
    "}\n"
   ]
  },
  {
   "cell_type": "markdown",
   "id": "4bedc7e8",
   "metadata": {},
   "source": [
    "### `src/main/java/com/editorial/controller/EmpleadoController.java`\n",
    "\n"
   ]
  },
  {
   "cell_type": "code",
   "execution_count": null,
   "id": "02359b55",
   "metadata": {},
   "outputs": [],
   "source": [
    "package com.editorial.controller;\n",
    "\n",
    "import com.editorial.entity.Empleado;\n",
    "import com.editorial.repository.EmpleadoRepository;\n",
    "import org.springframework.web.bind.annotation.*;\n",
    "\n",
    "import java.util.List;\n",
    "\n",
    "@RestController\n",
    "@RequestMapping(\"/api/empleados\")\n",
    "public class EmpleadoController {\n",
    "\n",
    "    private final EmpleadoRepository repository;\n",
    "\n",
    "    public EmpleadoController(EmpleadoRepository repository) {\n",
    "        this.repository = repository;\n",
    "    }\n",
    "\n",
    "    @GetMapping\n",
    "    public List<Empleado> getAll() {\n",
    "        return repository.findAll();\n",
    "    }\n",
    "\n",
    "    @PostMapping\n",
    "    public Empleado create(@RequestBody Empleado empleado) {\n",
    "        return repository.save(empleado);\n",
    "    }\n",
    "\n",
    "    @PutMapping(\"/{id}\")\n",
    "    public Empleado update(@PathVariable Long id, @RequestBody Empleado empleado) {\n",
    "        empleado.setId(id);\n",
    "        return repository.save(empleado);\n",
    "    }\n",
    "\n",
    "    @DeleteMapping(\"/{id}\")\n",
    "    public void delete(@PathVariable Long id) {\n",
    "        repository.deleteById(id);\n",
    "    }\n",
    "}\n"
   ]
  },
  {
   "cell_type": "markdown",
   "id": "18727e2c",
   "metadata": {},
   "source": [
    "### `src/main/java/com/editorial/controller/RevistaController.java`\n",
    "\n"
   ]
  },
  {
   "cell_type": "code",
   "execution_count": null,
   "id": "2db56f24",
   "metadata": {},
   "outputs": [],
   "source": [
    "package com.editorial.controller;\n",
    "\n",
    "import com.editorial.entity.Revista;\n",
    "import com.editorial.repository.RevistaRepository;\n",
    "import org.springframework.web.bind.annotation.*;\n",
    "\n",
    "import java.util.List;\n",
    "\n",
    "@RestController\n",
    "@RequestMapping(\"/api/revistas\")\n",
    "public class RevistaController {\n",
    "\n",
    "    private final RevistaRepository repository;\n",
    "\n",
    "    public RevistaController(RevistaRepository repository) {\n",
    "        this.repository = repository;\n",
    "    }\n",
    "\n",
    "    @GetMapping\n",
    "    public List<Revista> getAll() {\n",
    "        return repository.findAll();\n",
    "    }\n",
    "\n",
    "    @PostMapping\n",
    "    public Revista create(@RequestBody Revista revista) {\n",
    "        return repository.save(revista);\n",
    "    }\n",
    "\n",
    "    @PutMapping(\"/{id}\")\n",
    "    public Revista update(@PathVariable Long id, @RequestBody Revista revista) {\n",
    "        revista.setId(id);\n",
    "        return repository.save(revista);\n",
    "    }\n",
    "\n",
    "    @DeleteMapping(\"/{id}\")\n",
    "    public void delete(@PathVariable Long id) {\n",
    "        repository.deleteById(id);\n",
    "    }\n",
    "}\n"
   ]
  },
  {
   "cell_type": "markdown",
   "id": "91d49bb8",
   "metadata": {},
   "source": [
    "### `src/main/java/com/editorial/controller/PeriodistaController.java`\n",
    "\n"
   ]
  },
  {
   "cell_type": "code",
   "execution_count": null,
   "id": "6a3ef907",
   "metadata": {},
   "outputs": [],
   "source": [
    "package com.editorial.controller;\n",
    "\n",
    "import com.editorial.entity.Periodista;\n",
    "import com.editorial.repository.PeriodistaRepository;\n",
    "import org.springframework.web.bind.annotation.*;\n",
    "\n",
    "import java.util.List;\n",
    "\n",
    "@RestController\n",
    "@RequestMapping(\"/api/periodistas\")\n",
    "public class PeriodistaController {\n",
    "\n",
    "    private final PeriodistaRepository repository;\n",
    "\n",
    "    public PeriodistaController(PeriodistaRepository repository) {\n",
    "        this.repository = repository;\n",
    "    }\n",
    "\n",
    "    @GetMapping\n",
    "    public List<Periodista> getAll() {\n",
    "        return repository.findAll();\n",
    "    }\n",
    "\n",
    "    @PostMapping\n",
    "    public Periodista create(@RequestBody Periodista periodista) {\n",
    "        return repository.save(periodista);\n",
    "    }\n",
    "\n",
    "    @PutMapping(\"/{id}\")\n",
    "    public Periodista update(@PathVariable Long id, @RequestBody Periodista periodista) {\n",
    "        periodista.setId(id);\n",
    "        return repository.save(periodista);\n",
    "    }\n",
    "\n",
    "    @DeleteMapping(\"/{id}\")\n",
    "    public void delete(@PathVariable Long id) {\n",
    "        repository.deleteById(id);\n",
    "    }\n",
    "}\n"
   ]
  },
  {
   "cell_type": "markdown",
   "id": "8822f2ab",
   "metadata": {},
   "source": [
    "### `src/main/java/com/editorial/controller/ArticuloController.java`\n",
    "\n"
   ]
  },
  {
   "cell_type": "code",
   "execution_count": null,
   "id": "3209c9e2",
   "metadata": {},
   "outputs": [],
   "source": [
    "package com.editorial.controller;\n",
    "\n",
    "import com.editorial.entity.Articulo;\n",
    "import com.editorial.repository.ArticuloRepository;\n",
    "import org.springframework.web.bind.annotation.*;\n",
    "\n",
    "import java.util.List;\n",
    "\n",
    "@RestController\n",
    "@RequestMapping(\"/api/articulos\")\n",
    "public class ArticuloController {\n",
    "\n",
    "    private final ArticuloRepository repository;\n",
    "\n",
    "    public ArticuloController(ArticuloRepository repository) {\n",
    "        this.repository = repository;\n",
    "    }\n",
    "\n",
    "    @GetMapping\n",
    "    public List<Articulo> getAll() {\n",
    "        return repository.findAll();\n",
    "    }\n",
    "\n",
    "    @PostMapping\n",
    "    public Articulo create(@RequestBody Articulo articulo) {\n",
    "        return repository.save(articulo);\n",
    "    }\n",
    "\n",
    "    @PutMapping(\"/{id}\")\n",
    "    public Articulo update(@PathVariable Long id, @RequestBody Articulo articulo) {\n",
    "        articulo.setId(id);\n",
    "        return repository.save(articulo);\n",
    "    }\n",
    "\n",
    "    @DeleteMapping(\"/{id}\")\n",
    "    public void delete(@PathVariable Long id) {\n",
    "        repository.deleteById(id);\n",
    "    }\n",
    "}\n"
   ]
  },
  {
   "cell_type": "markdown",
   "id": "20c944c1",
   "metadata": {},
   "source": [
    "### `src/main/java/com/editorial/controller/NumeroRevistaController.java`\n",
    "\n"
   ]
  },
  {
   "cell_type": "code",
   "execution_count": null,
   "id": "9f522bac",
   "metadata": {},
   "outputs": [],
   "source": [
    "package com.editorial.controller;\n",
    "\n",
    "import com.editorial.entity.NumeroRevista;\n",
    "import com.editorial.repository.NumeroRevistaRepository;\n",
    "import org.springframework.web.bind.annotation.*;\n",
    "\n",
    "import java.util.List;\n",
    "\n",
    "@RestController\n",
    "@RequestMapping(\"/api/numeros\")\n",
    "public class NumeroRevistaController {\n",
    "\n",
    "    private final NumeroRevistaRepository repository;\n",
    "\n",
    "    public NumeroRevistaController(NumeroRevistaRepository repository) {\n",
    "        this.repository = repository;\n",
    "    }\n",
    "\n",
    "    @GetMapping\n",
    "    public List<NumeroRevista> getAll() {\n",
    "        return repository.findAll();\n",
    "    }\n",
    "\n",
    "    @PostMapping\n",
    "    public NumeroRevista create(@RequestBody NumeroRevista numero) {\n",
    "        return repository.save(numero);\n",
    "    }\n",
    "\n",
    "    @PutMapping(\"/{id}\")\n",
    "    public NumeroRevista update(@PathVariable Long id, @RequestBody NumeroRevista numero) {\n",
    "        numero.setId(id);\n",
    "        return repository.save(numero);\n",
    "    }\n",
    "\n",
    "    @DeleteMapping(\"/{id}\")\n",
    "    public void delete(@PathVariable Long id) {\n",
    "        repository.deleteById(id);\n",
    "    }\n",
    "}\n"
   ]
  }
 ],
 "metadata": {
  "language_info": {
   "name": "python"
  }
 },
 "nbformat": 4,
 "nbformat_minor": 5
}
